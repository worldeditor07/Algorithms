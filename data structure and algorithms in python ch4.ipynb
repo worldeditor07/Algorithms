{
 "cells": [
  {
   "cell_type": "markdown",
   "metadata": {},
   "source": [
    "### R1"
   ]
  },
  {
   "cell_type": "code",
   "execution_count": 1,
   "metadata": {
    "collapsed": true
   },
   "outputs": [],
   "source": [
    "def maximum(numbers, start, stop):\n",
    "    \"\"\"find the maximum number in the list of numbers\n",
    "    we only search for the portion numbers[start:stop]\n",
    "    \"\"\"\n",
    "    if start == stop - 1:\n",
    "        return numbers[start]\n",
    "    else:\n",
    "        m = maximum(numbers, start + 1, stop)\n",
    "        if m > numbers[start]:\n",
    "            return m\n",
    "        else:\n",
    "            return numbers[start]\n",
    "    "
   ]
  },
  {
   "cell_type": "code",
   "execution_count": 5,
   "metadata": {
    "collapsed": false
   },
   "outputs": [
    {
     "data": {
      "text/plain": [
       "5"
      ]
     },
     "execution_count": 5,
     "metadata": {},
     "output_type": "execute_result"
    }
   ],
   "source": [
    "numbers = [0,0, 2, 3, 4, 5, -3, 0, 4, 5, -2, -4]\n",
    "maximum(numbers, 0, len(numbers))"
   ]
  },
  {
   "cell_type": "markdown",
   "metadata": {},
   "source": [
    "### C411\n",
    "Describe an efficient recursive function for solving the element uniqueness\n",
    "problem, which runs in time that is at most O(n2) in the worst case\n",
    "without using sorting."
   ]
  },
  {
   "cell_type": "code",
   "execution_count": 6,
   "metadata": {
    "collapsed": true
   },
   "outputs": [],
   "source": [
    "def unique(numbers, start, stop):\n",
    "    \"\"\"decide if the list of numbers have all its elements unique, the range we consider \n",
    "    is numbers[start: stop]\n",
    "    \"\"\"\n",
    "    if stop - start < 2:\n",
    "        return True\n",
    "    else:\n",
    "        if numbers[start] in numbers[start + 1 : stop]:\n",
    "            return False\n",
    "        else:\n",
    "            return unique(numbers, start + 1, stop)"
   ]
  },
  {
   "cell_type": "code",
   "execution_count": 9,
   "metadata": {
    "collapsed": false
   },
   "outputs": [
    {
     "data": {
      "text/plain": [
       "True"
      ]
     },
     "execution_count": 9,
     "metadata": {},
     "output_type": "execute_result"
    }
   ],
   "source": [
    "unique([1, 2, 4, 3, -3], 0, 5)"
   ]
  },
  {
   "cell_type": "markdown",
   "metadata": {},
   "source": [
    "### C412 \n",
    "Give a recursive algorithm to compute the product of two positive integers,\n",
    "m and n, using only addition and subtraction."
   ]
  },
  {
   "cell_type": "code",
   "execution_count": 12,
   "metadata": {
    "collapsed": true
   },
   "outputs": [],
   "source": [
    "def multiplication(m, n):\n",
    "    \"\"\"an multiplication algorithm of two positive integers with only addition and subtractions\"\"\"\n",
    "    if m == 1:\n",
    "        return n\n",
    "    else:\n",
    "        return n + multiplication(m - 1, n)\n",
    "    "
   ]
  },
  {
   "cell_type": "code",
   "execution_count": 38,
   "metadata": {
    "collapsed": true
   },
   "outputs": [],
   "source": [
    "def fib(n):\n",
    "    a = 1\n",
    "    b = 0\n",
    "    i = 0\n",
    "    while i < n:\n",
    "        yield a\n",
    "        a , b = a + b, a\n",
    "        i += 1   "
   ]
  },
  {
   "cell_type": "markdown",
   "metadata": {},
   "source": [
    "### C415 \n",
    "Write a recursive function that will output all the subsets of a set of n\n",
    "elements (without repeating any subsets)"
   ]
  },
  {
   "cell_type": "code",
   "execution_count": 40,
   "metadata": {
    "collapsed": true
   },
   "outputs": [],
   "source": [
    "def subsets(S):\n",
    "    n = len(S)\n",
    "    if n:\n",
    "        head = S[0]\n",
    "        for subset in subsets(S[1::]):\n",
    "            yield subset\n",
    "            yield head + subset\n",
    "    else:\n",
    "        yield []"
   ]
  },
  {
   "cell_type": "markdown",
   "metadata": {},
   "source": [
    "# C421\n",
    "Suppose you are given an n-element sequence, S, containing distinct integers\n",
    "that are listed in increasing order. Given a number k, describe a\n",
    "recursive algorithm to find two integers in S that sum to k, if such a pair\n",
    "exists. What is the running time of your algorithm?"
   ]
  },
  {
   "cell_type": "code",
   "execution_count": 41,
   "metadata": {
    "collapsed": true
   },
   "outputs": [],
   "source": [
    "def find_sum(S, k):\n",
    "    start = 0\n",
    "    stop = len(S) - 1\n",
    "    while start < stop:\n",
    "        if S[start] + S[stop] == k:\n",
    "            return (S[start], S[stop])\n",
    "        elif S[start] + S[stop] < k:\n",
    "            start += 1\n",
    "        else:\n",
    "            stop -= 1\n",
    "    return False\n",
    "    "
   ]
  },
  {
   "cell_type": "code",
   "execution_count": 64,
   "metadata": {
    "collapsed": false
   },
   "outputs": [
    {
     "name": "stdout",
     "output_type": "stream",
     "text": [
      "False (-12, 9) (-6, 4) (-12, 11) (-4, 4) (-6, 7) False (-6, 9) (-3, 7)\n"
     ]
    }
   ],
   "source": [
    "S = [-6, -4, 7, 4, 11, -3, -12, 9, 1]\n",
    "S.sort()\n",
    "for k in range(-4, 5):\n",
    "    print find_sum(S, k),"
   ]
  },
  {
   "cell_type": "markdown",
   "metadata": {},
   "source": [
    "### C414\n",
    "In the Towers of Hanoi puzzle, we are given a platform with three pegs, a,\n",
    "b, and c, sticking out of it. On peg a is a stack of n disks, each larger than\n",
    "the next, so that the smallest is on the top and the largest is on the bottom.\n",
    "The puzzle is to move all the disks from peg a to peg c, moving one disk\n",
    "at a time, so that we never place a larger disk on top of a smaller one.\n",
    "See Figure 4.15 for an example of the case n = 4. Describe a recursive\n",
    "algorithm for solving the Towers of Hanoi puzzle for arbitrary n. (Hint:\n",
    "Consider first the subproblem of moving all but the nth disk from peg a to\n",
    "another peg using the third as “temporary storage.”)"
   ]
  },
  {
   "cell_type": "code",
   "execution_count": 88,
   "metadata": {
    "collapsed": true
   },
   "outputs": [],
   "source": [
    "def Hanoi(n, curr, target, storage):\n",
    "    \"\"\"\n",
    "    We consider the Hanoi tower problem of moving n-disks from tower c via b to a\n",
    "    \"\"\"\n",
    "    if n == 1:\n",
    "        print \"Move %s to %s\" % (curr, target)\n",
    "        return\n",
    "    else:\n",
    "        Hanoi(n - 1, curr, storage, target)\n",
    "        Hanoi(1, curr, target, storage)\n",
    "        Hanoi(n-1, storage, target, curr)"
   ]
  },
  {
   "cell_type": "code",
   "execution_count": 89,
   "metadata": {
    "collapsed": false
   },
   "outputs": [
    {
     "name": "stdout",
     "output_type": "stream",
     "text": [
      "Move c to b\n",
      "Move c to a\n",
      "Move b to a\n",
      "Move c to b\n",
      "Move a to c\n",
      "Move a to b\n",
      "Move c to b\n",
      "Move c to a\n",
      "Move b to a\n",
      "Move b to c\n",
      "Move a to c\n",
      "Move b to a\n",
      "Move c to b\n",
      "Move c to a\n",
      "Move b to a\n"
     ]
    }
   ],
   "source": [
    "Hanoi(4, 'c', 'a', 'b')"
   ]
  },
  {
   "cell_type": "markdown",
   "metadata": {},
   "source": [
    "### C419\n",
    "Write a short recursive Python function that rearranges a sequence of integer\n",
    "values so that all the even values appear before all the odd values."
   ]
  },
  {
   "cell_type": "code",
   "execution_count": 90,
   "metadata": {
    "collapsed": true
   },
   "outputs": [],
   "source": [
    "def even_first(numbers, start, end):\n",
    "    \"\"\"the program rearrange numbers in numbers[start, end] inclusive so that even numbers appear before odd ones\"\"\"\n",
    "    while start < end:\n",
    "        \n",
    "        # if the number is odd, we swap it with the last one\n",
    "        if numbers[start] % 2 == 1:\n",
    "            numbers[start], numbers[end] = numbers[end], numbers[start]\n",
    "            end -= 1\n",
    "        \n",
    "        # already even, so leave it and move on\n",
    "        else:\n",
    "            start += 1\n",
    "    return numbers\n",
    "    "
   ]
  },
  {
   "cell_type": "code",
   "execution_count": 93,
   "metadata": {
    "collapsed": false
   },
   "outputs": [
    {
     "data": {
      "text/plain": [
       "[4, 2, 2, -2, 5, 3, 1, 3, 3, 1]"
      ]
     },
     "execution_count": 93,
     "metadata": {},
     "output_type": "execute_result"
    }
   ],
   "source": [
    "s = [1,2, 3, 3, -2, 5, 2, 1, 3, 4]\n",
    "even_first(s, 0, len(s) - 1)"
   ]
  },
  {
   "cell_type": "markdown",
   "metadata": {},
   "source": [
    "### P423\n",
    "Implement a recursive function with signature find(path, filename) that\n",
    "reports all entries of the file system rooted at the given path having the\n",
    "given file name."
   ]
  },
  {
   "cell_type": "code",
   "execution_count": 146,
   "metadata": {
    "collapsed": false
   },
   "outputs": [],
   "source": [
    "import os\n",
    "def findFile(path, filename):\n",
    "    flag = False\n",
    "    if os.path.isdir(path):\n",
    "        for name in os.listdir(path):\n",
    "            childpath = os.path.join(path, name)\n",
    "            findFile(childpath, filename)\n",
    "        \n",
    "    else:\n",
    "        name = path.split('\\\\')[-1]\n",
    "        if name == filename:\n",
    "            print path\n",
    "            flag = True\n",
    "    return flag"
   ]
  },
  {
   "cell_type": "code",
   "execution_count": 148,
   "metadata": {
    "collapsed": false,
    "scrolled": true
   },
   "outputs": [
    {
     "name": "stdout",
     "output_type": "stream",
     "text": [
      "C:\\Users\\hua\\Desktop\\python-hard\\test.txt\n"
     ]
    },
    {
     "data": {
      "text/plain": [
       "False"
      ]
     },
     "execution_count": 148,
     "metadata": {},
     "output_type": "execute_result"
    }
   ],
   "source": [
    "findFile('C:\\\\Users\\\\hua\\\\Desktop', 'test.txt')"
   ]
  },
  {
   "cell_type": "code",
   "execution_count": 162,
   "metadata": {
    "collapsed": false
   },
   "outputs": [
    {
     "data": {
      "text/plain": [
       "32"
      ]
     },
     "execution_count": 162,
     "metadata": {},
     "output_type": "execute_result"
    }
   ],
   "source": [
    "ord('a') - ord('A')"
   ]
  },
  {
   "cell_type": "code",
   "execution_count": 163,
   "metadata": {
    "collapsed": true
   },
   "outputs": [],
   "source": [
    "class CaesarCipher:\n",
    "    \"\"\"Class for doing encryption and decryption using a Caesar Cipher.\"\"\"\n",
    "    def __init__(self, shift):\n",
    "        \"\"\"constructing Caesar Cipher using given shift for rotation\"\"\"\n",
    "        # tmp dictionary for encryption\n",
    "        encoder = [None] * 26\n",
    "        # tmp dictionary for decryption\n",
    "        decoder = [None] * 26\n",
    "        \n",
    "        for k in range(26):\n",
    "            encoder[k] = chr((k + shift) % 26 + ord('A'))\n",
    "            decoder[k] = chr((k - shift) % 26 + ord('A'))\n",
    "        self._forward = ''.join(encoder)\n",
    "        self._backward = ''.join(decoder)\n",
    "    \n",
    "    def encrypt(self, message):\n",
    "        \"\"\"Return string representing encrypted message\"\"\"\n",
    "        return self._transform(message, self._forward)\n",
    "    \n",
    "    def decrypt(self, message):\n",
    "        return self._transform(message, self._backward)\n",
    "    \n",
    "    def _transform(self, original, code):\n",
    "        \"\"\"utility to perform transformation based on given code string\"\"\"\n",
    "        msg = list(original)\n",
    "        for k in range(len(msg)):\n",
    "            if msg[k].isupper():\n",
    "                j = ord(msg[k]) - ord('A')\n",
    "                msg[k] = code[j]\n",
    "        return ''.join(msg)\n",
    "    "
   ]
  },
  {
   "cell_type": "code",
   "execution_count": 184,
   "metadata": {
    "collapsed": false
   },
   "outputs": [
    {
     "data": {
      "text/plain": [
       "'CHENCHEN CHAO IS A GOOD BOY; MEET HIM!'"
      ]
     },
     "execution_count": 184,
     "metadata": {},
     "output_type": "execute_result"
    }
   ],
   "source": [
    "cipher = CaesarCipher(3)\n",
    "message = 'CHENCHEN CHAO IS A GOOD BOY; MEET HIM!'\n",
    "coded = cipher.encrypt(message)\n",
    "coded\n",
    "decoded = cipher.decrypt(coded)\n",
    "decoded"
   ]
  },
  {
   "cell_type": "code",
   "execution_count": 196,
   "metadata": {
    "collapsed": false
   },
   "outputs": [
    {
     "data": {
      "text/plain": [
       "[[1, 2, 1, 2, 1, 2],\n",
       " [1, 2, 1, 2, 1, 2],\n",
       " [1, 2, 1, 2, 0, 2],\n",
       " [1, 2, 1, 2, 1, 2],\n",
       " [1, 2, 1, 2, 1, 2],\n",
       " [1, 2, 1, 2, 1, 2]]"
      ]
     },
     "execution_count": 196,
     "metadata": {},
     "output_type": "execute_result"
    }
   ],
   "source": [
    "data = [[1, 2] * 3 for j in range(6)] \n",
    "data[2][4] = 0\n",
    "data"
   ]
  },
  {
   "cell_type": "code",
   "execution_count": 27,
   "metadata": {
    "collapsed": true
   },
   "outputs": [],
   "source": []
  },
  {
   "cell_type": "code",
   "execution_count": null,
   "metadata": {
    "collapsed": true
   },
   "outputs": [],
   "source": []
  },
  {
   "cell_type": "code",
   "execution_count": null,
   "metadata": {
    "collapsed": true
   },
   "outputs": [],
   "source": []
  }
 ],
 "metadata": {
  "anaconda-cloud": {},
  "kernelspec": {
   "display_name": "Python [default]",
   "language": "python",
   "name": "python2"
  },
  "language_info": {
   "codemirror_mode": {
    "name": "ipython",
    "version": 2
   },
   "file_extension": ".py",
   "mimetype": "text/x-python",
   "name": "python",
   "nbconvert_exporter": "python",
   "pygments_lexer": "ipython2",
   "version": "2.7.12"
  }
 },
 "nbformat": 4,
 "nbformat_minor": 1
}
