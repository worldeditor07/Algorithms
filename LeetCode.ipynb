{
 "cells": [
  {
   "cell_type": "markdown",
   "metadata": {
    "collapsed": true
   },
   "source": [
    "### Implement next permutation, which rearranges numbers into the lexicographically next greater permutation of numbers. If such arrangement is not possible, it must rearrange it as the lowest possible order (ie, sorted in ascending order). The replacement must be in-place, do not allocate extra memory."
   ]
  },
  {
   "cell_type": "code",
   "execution_count": 49,
   "metadata": {
    "collapsed": false
   },
   "outputs": [],
   "source": [
    "class Solution(object):\n",
    "    def nextPermutation(self, nums):\n",
    "        \"\"\"\n",
    "        :type nums: List[int]\n",
    "        :rtype: void Do not return anything, modify nums in-place instead.\n",
    "        \"\"\"\n",
    "        n = len(nums)\n",
    "        \n",
    "        if n < 2:\n",
    "            return\n",
    "        \n",
    "        \"\"\"\n",
    "        In order for a next greater element to exist, the tail of the sequence must have a shape of:\n",
    "        nums[left_end] < nums[left_end + 1] >= .....>= nums[end], otherwise, the nums is largest already and\n",
    "        we skip this step\n",
    "        \"\"\"\n",
    "        left_end = -1\n",
    "        \n",
    "        for i in xrange(n - 1, 0, -1):\n",
    "            if nums[i - 1] < nums[i]:\n",
    "                left_end = i - 1\n",
    "                break\n",
    "        \n",
    "        if left_end != -1: # we find such a left_end\n",
    "            lo = left_end + 1    \n",
    "            hi = n - 1\n",
    "            target = nums[left_end]\n",
    "            \"\"\"\n",
    "            search for the place to insert nums[left_end] in the descending sequence\n",
    "            nums[left_end + 1] >= ....>= nums[n - 1], we use the binary sort\n",
    "            \"\"\"\n",
    "            print lo, hi\n",
    "            while lo < hi - 1:\n",
    "                mid = (lo + hi) // 2\n",
    "                if nums[mid] > target:\n",
    "                    lo = mid\n",
    "                else:\n",
    "                    hi = mid\n",
    "                print lo, mid, hi\n",
    "            \n",
    "            # do the appropriate swap\n",
    "            \n",
    "            if nums[hi] <= target:\n",
    "                nums[lo], nums[left_end] = nums[left_end], nums[lo]\n",
    "            else:\n",
    "                nums[hi], nums[left_end] = nums[left_end], nums[hi]\n",
    "            \n",
    "        \n",
    "        \n",
    "        # finally reverse the tail numbers nums[left_end + 1],..., nums[n - 1]\n",
    "        for i in xrange(left_end + 1, (left_end + n + 1) // 2):\n",
    "            nums[i], nums[left_end + n - i] = nums[left_end + n - i], nums[i]\n",
    "        \n",
    "        return\n",
    "        "
   ]
  },
  {
   "cell_type": "markdown",
   "metadata": {},
   "source": [
    "### Given a collection of distinct numbers, return all possible permutations."
   ]
  },
  {
   "cell_type": "code",
   "execution_count": 94,
   "metadata": {
    "collapsed": true
   },
   "outputs": [],
   "source": [
    "class Solution(object):\n",
    "    def permute(self, nums):\n",
    "        \"\"\"\n",
    "        :type nums: List[int]\n",
    "        :rtype: List[List[int]]\n",
    "        \"\"\"\n",
    "        if not nums:\n",
    "            return []\n",
    "            \n",
    "        self.result = []\n",
    "        self._permute(nums, [])\n",
    "        return self.result\n",
    "        \n",
    "    def _permute(self, nums, tmp):\n",
    "        if not nums:\n",
    "            self.result += [tmp]\n",
    "        else:\n",
    "            for i in range(len(nums)):\n",
    "                self._permute(nums[:i] + nums[i+1:], tmp + [nums[i]])"
   ]
  },
  {
   "cell_type": "code",
   "execution_count": 93,
   "metadata": {
    "collapsed": false
   },
   "outputs": [],
   "source": [
    "class Solution(object):\n",
    "    def permute(self, nums):\n",
    "        if len(nums) == 0:\n",
    "            return [[]]\n",
    "        if len(nums) == 1:\n",
    "            return [nums]\n",
    "        \n",
    "        ans = []\n",
    "        for i in range(len(nums)):\n",
    "            for p in self.permute(nums[:i] + nums[i+1:]):\n",
    "                ans.append(p + [nums[i]])     \n",
    "        return ans"
   ]
  },
  {
   "cell_type": "code",
   "execution_count": 113,
   "metadata": {
    "collapsed": true
   },
   "outputs": [],
   "source": [
    "class Solution(object):\n",
    "    def minPathSum(self, grid):\n",
    "        \"\"\"\n",
    "        :type grid: List[List[int]]\n",
    "        :rtype: int\n",
    "        \"\"\"\n",
    "        n_row = len(grid)\n",
    "        n_col = len(grid[0])\n",
    "        if n_row == 1:\n",
    "            return sum(grid[0])\n",
    "        if n_col == 1:\n",
    "            return sum([grid[i][0] for i in range(n_row)])\n",
    "        \n",
    "        for i in range(n_row):\n",
    "            for j in range(n_col):\n",
    "                print (i, j)\n",
    "                if i and j :\n",
    "                    print \"case 1\"\n",
    "                    grid[i][j] = min(grid[i][j - 1], grid[i - 1][j]) + grid[i][j]\n",
    "                elif i:\n",
    "                    print \"case 2\"\n",
    "                    grid[i][j] = grid[i - 1][j] + grid[i][j]\n",
    "                elif j:\n",
    "                    print \"case 3\"\n",
    "                    grid[i][j] = grid[i][j - 1] + grid[i][j]\n",
    "                print grid\n",
    "        \n",
    "        return grid[n_row - 1][n_col - 1]\n",
    "            "
   ]
  },
  {
   "cell_type": "markdown",
   "metadata": {},
   "source": [
    "### Given an m x n matrix of non-negative integers representing the height of each unit cell in a continent, the \"Pacific ocean\" touches the left and top edges of the matrix and the \"Atlantic ocean\" touches the right and bottom edges.\n",
    "\n",
    "Water can only flow in four directions (up, down, left, or right) from a cell to another one with height equal or lower.\n",
    "\n",
    "Find the list of grid coordinates where water can flow to both the Pacific and Atlantic ocean."
   ]
  },
  {
   "cell_type": "code",
   "execution_count": 143,
   "metadata": {
    "collapsed": true
   },
   "outputs": [],
   "source": [
    "class Solution(object):\n",
    "    def pacificAtlantic(self, matrix):\n",
    "        \"\"\"\n",
    "        :type matrix: List[List[int]]\n",
    "        :rtype: List[List[int]]\n",
    "        \"\"\"\n",
    "        \n",
    "        \n",
    "        \"\"\"\n",
    "        we search for the places reachable from the ocean, using depth first algorithm\n",
    "        \"\"\"\n",
    "        n_row = len(matrix)\n",
    "        n_col = len(matrix[0])\n",
    "        \n",
    "        self.directions = [(1, 0), (-1, 0), (0, 1), (0, -1)]\n",
    "        \n",
    "        a_visited = [[False for j in range(n_col)] for i in range(n_row)]\n",
    "        p_visited = [[False for j in range(n_col)] for i in range(n_row)]\n",
    "        \n",
    "        \n",
    "        for i in range(n_row):\n",
    "            self.dfs(matrix, a_visited, i, n_col - 1, n_row, n_col)\n",
    "            self.dfs(matrix, p_visited, i, 0, n_row, n_col)\n",
    "        for j in range(n_col):\n",
    "            self.dfs(matrix, a_visited, n_row - 1, j, n_row, n_col)\n",
    "            self.dfs(matrix, p_visited, 0, j, n_row, n_col)\n",
    "            \n",
    "        result = []\n",
    "        for i in range(n_row):\n",
    "            for j in range(n_col):\n",
    "                if a_visited[i][j] and p_visited[i][j]:\n",
    "                    result.append([i, j])\n",
    "        return result\n",
    "        \n",
    "        \n",
    "    \n",
    "    def dfs(self, matrix, visited, i, j, n_row, n_col):\n",
    "        visited[i][j] = True # we mark the current position as reachable\n",
    "        for direction in self.directions:\n",
    "            x, y = i + direction[0], j + direction[1]\n",
    "            if x < 0 or x >= n_row or y < 0 or y >= n_col or visited[x][y] or matrix[x][y] < matrix[i][j]:\n",
    "                continue\n",
    "            self.dfs(matrix, visited, x, y, n_row, n_col)\n",
    "        \n",
    "        \n",
    "        "
   ]
  },
  {
   "cell_type": "markdown",
   "metadata": {},
   "source": [
    "### Given an array where elements are sorted in ascending order, convert it to a height balanced BST."
   ]
  },
  {
   "cell_type": "code",
   "execution_count": null,
   "metadata": {
    "collapsed": true
   },
   "outputs": [],
   "source": []
  },
  {
   "cell_type": "code",
   "execution_count": null,
   "metadata": {
    "collapsed": true
   },
   "outputs": [],
   "source": []
  },
  {
   "cell_type": "markdown",
   "metadata": {},
   "source": [
    "### Given a 2d grid map of '1's (land) and '0's (water), count the number of islands. An island is surrounded by water and is formed by connecting adjacent lands horizontally or vertically. You may assume all four edges of the grid are all surrounded by water."
   ]
  },
  {
   "cell_type": "code",
   "execution_count": 155,
   "metadata": {
    "collapsed": true
   },
   "outputs": [],
   "source": [
    "class Solution(object):\n",
    "    def numIslands(self, grid):\n",
    "        \"\"\"\n",
    "        :type grid: List[List[str]]\n",
    "        :rtype: int\n",
    "        \"\"\"\n",
    "        self.directions = [(1,0), (0, 1), (-1,0), (0, -1)]\n",
    "        n_row = len(grid)\n",
    "        n_col = len(grid[0])\n",
    "        count = 0\n",
    "        \n",
    "        visited = [[False for j in range(n_col)] for i in range(n_row)] # bool matrix about visited status\n",
    "        for i in xrange(n_row):\n",
    "            for j in xrange(n_col):\n",
    "                \n",
    "                # we search until we find the next unvisited land\n",
    "                if visited[i][j] or not grid[i][j]:\n",
    "                    continue\n",
    "                \n",
    "                # we found a new island, update the count\n",
    "                count += 1\n",
    "                self.dfs(visited, grid, i, j, n_row, n_col)\n",
    "          \n",
    "        return count\n",
    "    \n",
    "    \n",
    "    def dfs(self, visited, grid, i, j, n_row, n_col):\n",
    "        # the grid itself is an island, we exhaust all grid points on this island\n",
    "        visited[i][j] = True\n",
    "        for direction in self.directions:\n",
    "            x, y = i + direction[0], j + direction[1]\n",
    "            # if the position is invalid, not island, or has been visited, skip it\n",
    "            if x < 0 or x >= n_row or y < 0 or y >= n_col or not grid[x][y] or visited[x][y]:\n",
    "                continue\n",
    "            self.dfs(visited, grid, x, y, n_row, n_col)\n",
    "                \n",
    "        \n",
    "        \n",
    "        "
   ]
  },
  {
   "cell_type": "code",
   "execution_count": 156,
   "metadata": {
    "collapsed": true
   },
   "outputs": [],
   "source": [
    "a = Solution()"
   ]
  },
  {
   "cell_type": "code",
   "execution_count": 165,
   "metadata": {
    "collapsed": true
   },
   "outputs": [],
   "source": [
    "b = [[1, 1, 0, 0], \n",
    "     [0, 1, 1, 1], \n",
    "     [1, 0, 1, 0], \n",
    "     [1, 1, 1, 1],\n",
    "     [0, 0, 0, 1]]"
   ]
  },
  {
   "cell_type": "code",
   "execution_count": 166,
   "metadata": {
    "collapsed": false
   },
   "outputs": [
    {
     "data": {
      "text/plain": [
       "1"
      ]
     },
     "execution_count": 166,
     "metadata": {},
     "output_type": "execute_result"
    }
   ],
   "source": [
    "a.numIslands(b)"
   ]
  },
  {
   "cell_type": "code",
   "execution_count": 38,
   "metadata": {
    "collapsed": true
   },
   "outputs": [],
   "source": [
    "class Solution(object):\n",
    "    def permuteUnique(self, nums):\n",
    "        \"\"\"\n",
    "        :type nums: List[int]\n",
    "        :rtype: List[List[int]]\n",
    "        \"\"\"\n",
    "        ans = []\n",
    "        for num in nums:\n",
    "            update = self.bfs(ans, num)\n",
    "            ans = update[::]\n",
    "            print ans\n",
    "        return ans\n",
    "    \n",
    "    def bfs(self, prev_combinations, num):\n",
    "        if not prev_combinations:\n",
    "            return [[num]]\n",
    "        \n",
    "        new_combinations = []\n",
    "        for combination in prev_combinations:\n",
    "            if num in combination:\n",
    "                index = combination.index(num)\n",
    "            else:\n",
    "                index = len(combination)\n",
    "            print index, combination\n",
    "            for i in range(index + 1):\n",
    "                new_combinations.append(combination[:i] + [num] + combination[i:])\n",
    "        return new_combinations"
   ]
  },
  {
   "cell_type": "code",
   "execution_count": 39,
   "metadata": {
    "collapsed": false
   },
   "outputs": [],
   "source": [
    "a = [1, 1, 2]\n",
    "b = Solution()"
   ]
  },
  {
   "cell_type": "code",
   "execution_count": 40,
   "metadata": {
    "collapsed": false
   },
   "outputs": [
    {
     "name": "stdout",
     "output_type": "stream",
     "text": [
      "[[1]]\n",
      "0 [1]\n",
      "[[1, 1]]\n",
      "2 [1, 1]\n",
      "[[2, 1, 1], [1, 2, 1], [1, 1, 2]]\n"
     ]
    },
    {
     "data": {
      "text/plain": [
       "[[2, 1, 1], [1, 2, 1], [1, 1, 2]]"
      ]
     },
     "execution_count": 40,
     "metadata": {},
     "output_type": "execute_result"
    }
   ],
   "source": [
    "b.permuteUnique(a)"
   ]
  },
  {
   "cell_type": "code",
   "execution_count": 41,
   "metadata": {
    "collapsed": false
   },
   "outputs": [
    {
     "name": "stdout",
     "output_type": "stream",
     "text": [
      "0 [1]\n"
     ]
    },
    {
     "data": {
      "text/plain": [
       "[[1, 1]]"
      ]
     },
     "execution_count": 41,
     "metadata": {},
     "output_type": "execute_result"
    }
   ],
   "source": [
    "b.bfs([[1]], 1)"
   ]
  },
  {
   "cell_type": "code",
   "execution_count": 42,
   "metadata": {
    "collapsed": false
   },
   "outputs": [
    {
     "data": {
      "text/plain": [
       "[]"
      ]
     },
     "execution_count": 42,
     "metadata": {},
     "output_type": "execute_result"
    }
   ],
   "source": [
    "range(0)"
   ]
  },
  {
   "cell_type": "code",
   "execution_count": 43,
   "metadata": {
    "collapsed": false
   },
   "outputs": [
    {
     "name": "stdout",
     "output_type": "stream",
     "text": [
      "4 4 3\n",
      "2 2 3\n",
      "3 1 4\n",
      "4 4 4\n",
      "16\n"
     ]
    }
   ],
   "source": [
    "n, m, k = map(int, raw_input('').strip().split(' '))\n",
    "tracks = {}\n",
    "for i in range(k):\n",
    "    r, c1, c2 = map(int, raw_input('').strip().split(' '))\n",
    "    if r in tracks:\n",
    "        tracks[r].append([c1, c2])\n",
    "    else:\n",
    "        tracks[r]= [[c1, c2]]\n",
    "        \n",
    "total = 0\n",
    "for row in tracks:\n",
    "    tmp = tracks[row]\n",
    "    tmp.sort()\n",
    "    # this will sort the track by the starting posisiton in ascending order\n",
    "    while len(tmp) > 1:\n",
    "        if tmp[0][1] >= tmp[1][0]: # overlap tracks, we merge them and remove one track\n",
    "            a = tmp.pop(0)\n",
    "            low = a[0] # update the upper and lower bounds\n",
    "            high = max(a[1], tmp[0][1])\n",
    "            tmp[0] = [low, high]\n",
    "        else: # no overlap, we remove the smaller interval and count it\n",
    "            a = tmp.pop(0)\n",
    "            total += a[1] - a[0] + 1\n",
    "        a = tmp.pop(-1)\n",
    "        total += a[1] - a[0] + 1\n",
    "        \n",
    "print m * n - total"
   ]
  },
  {
   "cell_type": "code",
   "execution_count": 44,
   "metadata": {
    "collapsed": false
   },
   "outputs": [
    {
     "data": {
      "text/plain": [
       "{2: [[2, 3]], 3: [[1, 4]], 4: [[4, 4]]}"
      ]
     },
     "execution_count": 44,
     "metadata": {},
     "output_type": "execute_result"
    }
   ],
   "source": [
    "tracks"
   ]
  },
  {
   "cell_type": "code",
   "execution_count": 47,
   "metadata": {
    "collapsed": false
   },
   "outputs": [
    {
     "name": "stdout",
     "output_type": "stream",
     "text": [
      "9\n"
     ]
    }
   ],
   "source": [
    "total = 0\n",
    "for row in tracks:\n",
    "    tmp = tracks[row]\n",
    "    tmp.sort()\n",
    "    # this will sort the track by the starting posisiton in ascending order\n",
    "    while len(tmp) > 1:\n",
    "        if tmp[0][1] >= tmp[1][0]: # overlap tracks, we merge them and remove one track\n",
    "            a = tmp.pop(0)\n",
    "            low = a[0] # update the upper and lower bounds\n",
    "            high = max(a[1], tmp[0][1])\n",
    "            tmp[0] = [low, high]\n",
    "        else: # no overlap, we remove the smaller interval and count it\n",
    "            a = tmp.pop(0)\n",
    "            total += a[1] - a[0] + 1\n",
    "    a = tmp.pop(-1)\n",
    "    total += a[1] - a[0] + 1\n",
    "        \n",
    "print m * n - total"
   ]
  },
  {
   "cell_type": "code",
   "execution_count": 78,
   "metadata": {
    "collapsed": true
   },
   "outputs": [],
   "source": [
    "def find_largest(a, n, m):    \n",
    "    # generate the partial sum \n",
    "    a[0] = a[0] % m \n",
    "    for i in xrange(1, n):\n",
    "        a[i] = (a[i - 1] + a[i]) % m    \n",
    "        \n",
    "    largest = 0\n",
    "    found = []\n",
    "    for i in xrange(n):\n",
    "        x = a[i]\n",
    "        j = bisect.bisect_right(found, x)\n",
    "        largest = max(largest, x)\n",
    "        if j < i:\n",
    "            largest = max(largest, (a[i] - a[j]) % m)\n",
    "            found.insert(j, x)\n",
    "        \n",
    "        print found\n",
    "        \n",
    "    return largest\n",
    "    "
   ]
  },
  {
   "cell_type": "code",
   "execution_count": 79,
   "metadata": {
    "collapsed": true
   },
   "outputs": [],
   "source": [
    "a = [3, 3, 9, 9, 5]\n",
    "m = 7\n",
    "n = 5"
   ]
  },
  {
   "cell_type": "code",
   "execution_count": 80,
   "metadata": {
    "collapsed": false
   },
   "outputs": [
    {
     "name": "stdout",
     "output_type": "stream",
     "text": [
      "[]\n",
      "[6]\n",
      "[1, 6]\n",
      "[1, 3, 6]\n",
      "[1, 1, 3, 6]\n"
     ]
    },
    {
     "data": {
      "text/plain": [
       "6"
      ]
     },
     "execution_count": 80,
     "metadata": {},
     "output_type": "execute_result"
    }
   ],
   "source": [
    "find_largest(a, n, m)"
   ]
  },
  {
   "cell_type": "code",
   "execution_count": 81,
   "metadata": {
    "collapsed": true
   },
   "outputs": [],
   "source": [
    "bisect.bisect_right?"
   ]
  },
  {
   "cell_type": "code",
   "execution_count": null,
   "metadata": {
    "collapsed": true
   },
   "outputs": [],
   "source": []
  }
 ],
 "metadata": {
  "anaconda-cloud": {},
  "kernelspec": {
   "display_name": "Python [default]",
   "language": "python",
   "name": "python2"
  },
  "language_info": {
   "codemirror_mode": {
    "name": "ipython",
    "version": 2
   },
   "file_extension": ".py",
   "mimetype": "text/x-python",
   "name": "python",
   "nbconvert_exporter": "python",
   "pygments_lexer": "ipython2",
   "version": "2.7.12"
  }
 },
 "nbformat": 4,
 "nbformat_minor": 1
}
