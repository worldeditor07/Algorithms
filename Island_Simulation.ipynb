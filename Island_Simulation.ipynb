{
 "cells": [
  {
   "cell_type": "code",
   "execution_count": 2,
   "metadata": {
    "collapsed": true
   },
   "outputs": [],
   "source": [
    "import random\n",
    "import numpy as np\n",
    "import pandas as pd"
   ]
  },
  {
   "cell_type": "code",
   "execution_count": 13,
   "metadata": {
    "collapsed": true
   },
   "outputs": [],
   "source": [
    "n = 50 # set the number of islands \n",
    "Island = [True] * (n - 1) # set the number of bridges"
   ]
  },
  {
   "cell_type": "code",
   "execution_count": 18,
   "metadata": {
    "collapsed": false
   },
   "outputs": [
    {
     "name": "stdout",
     "output_type": "stream",
     "text": [
      "0 tests completed\n",
      "10000 tests completed\n",
      "20000 tests completed\n",
      "30000 tests completed\n",
      "40000 tests completed\n",
      "50000 tests completed\n",
      "60000 tests completed\n",
      "70000 tests completed\n",
      "80000 tests completed\n",
      "90000 tests completed\n"
     ]
    }
   ],
   "source": [
    "result = []\n",
    "i = 0\n",
    "broken_bridge = [0] * (n - 1)\n",
    "while i < 100000:\n",
    "    if i % 10000 == 0:\n",
    "        print \"%d tests completed\" % i\n",
    "    Bridge = Island[:] # make a copy of the bridges\n",
    "    count = 0\n",
    "    position = 0\n",
    "    while position < n - 1:\n",
    "        if Bridge[position]: # the weak bridge is still there\n",
    "            luck = random.random()\n",
    "            if luck < 0.5:\n",
    "                position += 1\n",
    "                count += 1\n",
    "                #print \"I'm on island %d and have walked %d strong bridges\" % (position, count)\n",
    "            else:\n",
    "                Bridge[position] = False\n",
    "                position = 0 # back to start\n",
    "                \n",
    "                #print \"I'm on island %d and have walked %d strong bridges, the bridge broke\" % (position, count)\n",
    "        else:\n",
    "            position += 1\n",
    "            count += 1\n",
    "            #print \"I'm on island %d and have walked %d strong bridges, there is no weak bridge\" % (position, count)\n",
    "    result.append(count)\n",
    "    for j in xrange(n - 1):\n",
    "        if not Bridge[j]:\n",
    "            broken_bridge[j] += 1 # we also keep track of broken bridges\n",
    "    i += 1"
   ]
  },
  {
   "cell_type": "code",
   "execution_count": 23,
   "metadata": {
    "collapsed": false
   },
   "outputs": [
    {
     "data": {
      "text/plain": [
       "0     1.00000\n",
       "1     1.00000\n",
       "2     1.00000\n",
       "3     1.00000\n",
       "4     1.00000\n",
       "5     1.00000\n",
       "6     1.00000\n",
       "7     1.00000\n",
       "8     1.00000\n",
       "9     1.00000\n",
       "10    1.00000\n",
       "11    1.00000\n",
       "12    1.00000\n",
       "13    1.00000\n",
       "14    1.00000\n",
       "15    1.00000\n",
       "16    1.00000\n",
       "17    1.00000\n",
       "18    1.00000\n",
       "19    1.00000\n",
       "20    1.00000\n",
       "21    1.00000\n",
       "22    1.00000\n",
       "23    1.00000\n",
       "24    1.00000\n",
       "25    1.00000\n",
       "26    1.00000\n",
       "27    1.00000\n",
       "28    0.99999\n",
       "29    1.00000\n",
       "30    0.99994\n",
       "31    0.99993\n",
       "32    0.99984\n",
       "33    0.99977\n",
       "34    0.99963\n",
       "35    0.99931\n",
       "36    0.99847\n",
       "37    0.99769\n",
       "38    0.99544\n",
       "39    0.99176\n",
       "40    0.98463\n",
       "41    0.97427\n",
       "42    0.95665\n",
       "43    0.92934\n",
       "44    0.88382\n",
       "45    0.81912\n",
       "46    0.73470\n",
       "47    0.62478\n",
       "48    0.50133\n",
       "dtype: float64"
      ]
     },
     "execution_count": 23,
     "metadata": {},
     "output_type": "execute_result"
    }
   ],
   "source": [
    "pd.Series(broken_bridge) / 100000"
   ]
  },
  {
   "cell_type": "code",
   "execution_count": 19,
   "metadata": {
    "collapsed": false
   },
   "outputs": [
    {
     "data": {
      "text/plain": [
       "1150.0000000000002"
      ]
     },
     "execution_count": 19,
     "metadata": {},
     "output_type": "execute_result"
    }
   ],
   "source": [
    "total = 0\n",
    "for i in xrange(1, n):\n",
    "    prob = 1 - 0.5 ** i\n",
    "    expectation = prob * (i - 1)\n",
    "    total += expectation\n",
    "total - n / 2"
   ]
  },
  {
   "cell_type": "code",
   "execution_count": 20,
   "metadata": {
    "collapsed": false
   },
   "outputs": [
    {
     "data": {
      "text/plain": [
       "1150.75549"
      ]
     },
     "execution_count": 20,
     "metadata": {},
     "output_type": "execute_result"
    }
   ],
   "source": [
    "np.mean(result)"
   ]
  },
  {
   "cell_type": "code",
   "execution_count": 7,
   "metadata": {
    "collapsed": false
   },
   "outputs": [],
   "source": [
    "df = pd.DataFrame(result)"
   ]
  },
  {
   "cell_type": "code",
   "execution_count": 8,
   "metadata": {
    "collapsed": false
   },
   "outputs": [],
   "source": [
    "df.columns = ['Count']"
   ]
  },
  {
   "cell_type": "code",
   "execution_count": 9,
   "metadata": {
    "collapsed": false
   },
   "outputs": [],
   "source": [
    "result = pd.Series(result)"
   ]
  },
  {
   "cell_type": "code",
   "execution_count": 10,
   "metadata": {
    "collapsed": false
   },
   "outputs": [
    {
     "data": {
      "text/plain": [
       "4950    2948\n",
       "4852    1489\n",
       "4755     710\n",
       "4853     673\n",
       "4757     369\n",
       "4854     346\n",
       "4659     344\n",
       "4756     332\n",
       "4661     201\n",
       "4855     196\n",
       "4660     183\n",
       "4758     180\n",
       "4564     167\n",
       "4662     125\n",
       "4759     124\n",
       "4565     105\n",
       "4470      95\n",
       "4663      85\n",
       "4760      82\n",
       "4856      81\n",
       "4566      73\n",
       "4568      63\n",
       "4472      61\n",
       "4664      57\n",
       "4761      53\n",
       "4567      52\n",
       "4471      49\n",
       "4377      48\n",
       "4857      41\n",
       "4473      40\n",
       "        ... \n",
       "3585       1\n",
       "4299       1\n",
       "4108       1\n",
       "4772       1\n",
       "4023       1\n",
       "4109       1\n",
       "4389       1\n",
       "4202       1\n",
       "3844       1\n",
       "3845       1\n",
       "4295       1\n",
       "3587       1\n",
       "4576       1\n",
       "3755       1\n",
       "4496       1\n",
       "3843       1\n",
       "3931       1\n",
       "4019       1\n",
       "4105       1\n",
       "4481       1\n",
       "4112       1\n",
       "4024       1\n",
       "4016       1\n",
       "3928       1\n",
       "4018       1\n",
       "4771       1\n",
       "4302       1\n",
       "4390       1\n",
       "4483       1\n",
       "4110       1\n",
       "dtype: int64"
      ]
     },
     "execution_count": 10,
     "metadata": {},
     "output_type": "execute_result"
    }
   ],
   "source": [
    "result.value_counts()"
   ]
  },
  {
   "cell_type": "code",
   "execution_count": 12,
   "metadata": {
    "collapsed": false
   },
   "outputs": [
    {
     "data": {
      "text/plain": [
       "4950    0.02948\n",
       "4852    0.01489\n",
       "4755    0.00710\n",
       "4853    0.00673\n",
       "4757    0.00369\n",
       "4854    0.00346\n",
       "4659    0.00344\n",
       "4756    0.00332\n",
       "4661    0.00201\n",
       "4855    0.00196\n",
       "dtype: float64"
      ]
     },
     "execution_count": 12,
     "metadata": {},
     "output_type": "execute_result"
    }
   ],
   "source": [
    "most_freq = (result.value_counts()/100000)\n",
    "most_freq[:10]"
   ]
  },
  {
   "cell_type": "code",
   "execution_count": 98,
   "metadata": {
    "collapsed": false
   },
   "outputs": [
    {
     "data": {
      "text/plain": [
       "90.48930000000001"
      ]
     },
     "execution_count": 98,
     "metadata": {},
     "output_type": "execute_result"
    }
   ],
   "source": [
    "190 * 0.28943 + 172 * 0.14330 + 155 * 0.07"
   ]
  },
  {
   "cell_type": "code",
   "execution_count": null,
   "metadata": {
    "collapsed": true
   },
   "outputs": [],
   "source": []
  }
 ],
 "metadata": {
  "anaconda-cloud": {},
  "kernelspec": {
   "display_name": "Python [default]",
   "language": "python",
   "name": "python2"
  },
  "language_info": {
   "codemirror_mode": {
    "name": "ipython",
    "version": 2
   },
   "file_extension": ".py",
   "mimetype": "text/x-python",
   "name": "python",
   "nbconvert_exporter": "python",
   "pygments_lexer": "ipython2",
   "version": "2.7.12"
  }
 },
 "nbformat": 4,
 "nbformat_minor": 1
}
