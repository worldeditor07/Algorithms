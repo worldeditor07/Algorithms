{
 "cells": [
  {
   "cell_type": "code",
   "execution_count": 4,
   "metadata": {
    "collapsed": true
   },
   "outputs": [],
   "source": [
    "# how many ways to put n-rooks on a n * n board\n",
    "def rook(a):\n",
    "    \"\"\"\n",
    "    a type: List\n",
    "    rtype: List[List]\n",
    "    \"\"\"\n",
    "    if not a:\n",
    "        return []\n",
    "    if len(a) == 1:\n",
    "        return [a]\n",
    "    \n",
    "    results =[]\n",
    "    for i in xrange(len(a)):\n",
    "        a[0], a[i] = a[i], a[0] # swap i and 0\n",
    "        results.extend([[a[0]] + result for result in rook(a[1:])]) # call rook recursively\n",
    "        a[i], a[0] = a[0], a[i] # swap back \n",
    "    return results"
   ]
  },
  {
   "cell_type": "code",
   "execution_count": 7,
   "metadata": {
    "collapsed": false
   },
   "outputs": [
    {
     "data": {
      "text/plain": [
       "[[0, 1, 2, 3],\n",
       " [0, 1, 3, 2],\n",
       " [0, 2, 1, 3],\n",
       " [0, 2, 3, 1],\n",
       " [0, 3, 2, 1],\n",
       " [0, 3, 1, 2],\n",
       " [1, 0, 2, 3],\n",
       " [1, 0, 3, 2],\n",
       " [1, 2, 0, 3],\n",
       " [1, 2, 3, 0],\n",
       " [1, 3, 2, 0],\n",
       " [1, 3, 0, 2],\n",
       " [2, 1, 0, 3],\n",
       " [2, 1, 3, 0],\n",
       " [2, 0, 1, 3],\n",
       " [2, 0, 3, 1],\n",
       " [2, 3, 0, 1],\n",
       " [2, 3, 1, 0],\n",
       " [3, 1, 2, 0],\n",
       " [3, 1, 0, 2],\n",
       " [3, 2, 1, 0],\n",
       " [3, 2, 0, 1],\n",
       " [3, 0, 2, 1],\n",
       " [3, 0, 1, 2]]"
      ]
     },
     "execution_count": 7,
     "metadata": {},
     "output_type": "execute_result"
    }
   ],
   "source": [
    "a = range(4)\n",
    "rook(a)"
   ]
  },
  {
   "cell_type": "code",
   "execution_count": 36,
   "metadata": {
    "collapsed": true
   },
   "outputs": [],
   "source": [
    "# how many ways to put n-queens\n",
    "class Queen(object):\n",
    "    def _backtrack(self, k):\n",
    "        \"\"\"\n",
    "        k type: int\n",
    "        rtype: bool\n",
    "        \"\"\"\n",
    "        for i in xrange(k):\n",
    "            if self.a[i] - self.a[k] == i - k or self.a[i] - self.a[k] == k - i:\n",
    "                return True\n",
    "        return False\n",
    "        \n",
    "    def _enum(self, k):\n",
    "        \"\"\"\n",
    "        from the k-th position, enumerate the remaining possibilities, the algorithm\n",
    "        recursively swap the '0'-th element with 'i'-th element, check if this creates\n",
    "        a diagonal conflict, and continue recursively\n",
    "        \"\"\"\n",
    "        if k == self.n:\n",
    "            self.positions.append(self.a[:])\n",
    "            return \n",
    "        \n",
    "        for i in xrange(k, self.n):\n",
    "            self._exchange(i, k)\n",
    "            if not self._backtrack(k):\n",
    "                self._enum(k + 1)\n",
    "            self._exchange(i, k)\n",
    "    \n",
    "    def _exchange(self, i, j):\n",
    "        self.a[i], self.a[j] = self.a[j], self.a[i]\n",
    "    \n",
    "    #==================================\n",
    "    \n",
    "    def queenPosition(self, n):\n",
    "        \"\"\"\n",
    "        n type: int\n",
    "        rtype: List[List]\n",
    "        \"\"\"\n",
    "        self.a = range(n) # initialze the position\n",
    "        self.n = n\n",
    "        self.positions = []\n",
    "        self._enum(0)\n",
    "        \n",
    "        return self.positions"
   ]
  },
  {
   "cell_type": "code",
   "execution_count": 37,
   "metadata": {
    "collapsed": true
   },
   "outputs": [],
   "source": [
    "q = Queen()"
   ]
  },
  {
   "cell_type": "code",
   "execution_count": 38,
   "metadata": {
    "collapsed": false
   },
   "outputs": [
    {
     "data": {
      "text/plain": [
       "[[0, 2, 4, 1, 3],\n",
       " [0, 3, 1, 4, 2],\n",
       " [1, 3, 0, 2, 4],\n",
       " [1, 4, 2, 0, 3],\n",
       " [2, 0, 3, 1, 4],\n",
       " [2, 4, 1, 3, 0],\n",
       " [3, 1, 4, 2, 0],\n",
       " [3, 0, 2, 4, 1],\n",
       " [4, 1, 3, 0, 2],\n",
       " [4, 2, 0, 3, 1]]"
      ]
     },
     "execution_count": 38,
     "metadata": {},
     "output_type": "execute_result"
    }
   ],
   "source": [
    "q.queenPosition(5)"
   ]
  },
  {
   "cell_type": "markdown",
   "metadata": {},
   "source": [
    "### enumerate N-digits R-based numbers"
   ]
  },
  {
   "cell_type": "code",
   "execution_count": 110,
   "metadata": {
    "collapsed": true
   },
   "outputs": [],
   "source": [
    "class baseR(object):\n",
    "    def __init__(self, R = 2): # default binary\n",
    "        self.R = R\n",
    "    \n",
    "    def _enum(self, k):\n",
    "        if k == self.N:\n",
    "            self.results.append(self.a[:])\n",
    "            return\n",
    "        for b in xrange(self.R):\n",
    "            self.a[k] = b # set the k-th number to be b\n",
    "            self._enum(k + 1) # enumerate the rest\n",
    "    \n",
    "    def NR(self, N):\n",
    "        self.N = N\n",
    "        self.a = range(N)\n",
    "        self.results = []\n",
    "        \n",
    "        self._enum(0)\n",
    "        return self.results"
   ]
  },
  {
   "cell_type": "code",
   "execution_count": 107,
   "metadata": {
    "collapsed": true
   },
   "outputs": [],
   "source": [
    "b = baseR(R = 3)"
   ]
  },
  {
   "cell_type": "code",
   "execution_count": 109,
   "metadata": {
    "collapsed": false
   },
   "outputs": [
    {
     "data": {
      "text/plain": [
       "[[0, 0], [0, 1], [0, 2], [1, 0], [1, 1], [1, 2], [2, 0], [2, 1], [2, 2]]"
      ]
     },
     "execution_count": 109,
     "metadata": {},
     "output_type": "execute_result"
    }
   ],
   "source": [
    "b.NR(2)"
   ]
  },
  {
   "cell_type": "markdown",
   "metadata": {},
   "source": [
    "### Sudoku"
   ]
  },
  {
   "cell_type": "markdown",
   "metadata": {},
   "source": [
    "#### view the sudoku as a 9 * 9 = 81 digits 9-based number"
   ]
  },
  {
   "cell_type": "code",
   "execution_count": 282,
   "metadata": {
    "collapsed": true
   },
   "outputs": [],
   "source": [
    "# somehow it is very slow\n",
    "class Sudoku(object):\n",
    "    def __init__(self, board):\n",
    "        self.board = board\n",
    "       \n",
    "    def _solve(self, cell):\n",
    "        \"\"\"\n",
    "        solve the number from the given cell\n",
    "        cell type: int, with range in [0, 80]\n",
    "        rtype: Boolean\n",
    "        \"\"\"\n",
    "        if cell == 81:\n",
    "            print 'success'\n",
    "            self.solution = self.board[:]\n",
    "            return\n",
    "        \n",
    "        if self.board[cell] != 0: # can't change the default value\n",
    "            self._solve(cell + 1)\n",
    "            return\n",
    "        \n",
    "        else:\n",
    "            for num in range(1, 10):\n",
    "                if not self._backtrack(cell, num):\n",
    "                    self.board[cell] = num\n",
    "                    self._solve(cell + 1)\n",
    "            self.board[cell] = 0 # clean up\n",
    "            \n",
    "                \n",
    "    def _backtrack(self, cell, num):\n",
    "        \"\"\"\n",
    "        cell type: int\n",
    "        num type: int\n",
    "        rtype: bool\n",
    "        ============\n",
    "        check if the num conflict with the sudoku\n",
    "        \"\"\"\n",
    "        row, column = divmod(cell, 9) # find row, column index in the board\n",
    "        # check row\n",
    "        for i in xrange(9):\n",
    "            if self.board[row * 9 + i] == num and i != column:\n",
    "                return True\n",
    "        \n",
    "        # check column:\n",
    "        for i in xrange(9):\n",
    "            if self.board[i * 9 + column] == num and i != row:\n",
    "                return True\n",
    "        \n",
    "        \n",
    "        # check grid:\n",
    "        row_group = row // 3\n",
    "        col_group = column // 3\n",
    "        \n",
    "        for i in xrange(3):\n",
    "            for j in xrange(3):\n",
    "                index = (row_group * 3 + i) * 9 + (col_group * 3 + j)\n",
    "                if self.board[index] == num and index != cell:\n",
    "                    return True\n",
    "        \n",
    "        return False        \n",
    "        \n",
    "    def solution(self):\n",
    "        self.solution = None\n",
    "        self._solve(0)\n",
    "        return self.solution"
   ]
  },
  {
   "cell_type": "code",
   "execution_count": 276,
   "metadata": {
    "collapsed": false
   },
   "outputs": [
    {
     "data": {
      "text/plain": [
       "81"
      ]
     },
     "execution_count": 276,
     "metadata": {},
     "output_type": "execute_result"
    }
   ],
   "source": [
    "string = '708000300000201000500000000040000026300080000000100090090600004000070500000000000'\n",
    "len(string)"
   ]
  },
  {
   "cell_type": "code",
   "execution_count": 277,
   "metadata": {
    "collapsed": true
   },
   "outputs": [],
   "source": [
    "board = map(int, list(string))"
   ]
  },
  {
   "cell_type": "code",
   "execution_count": 278,
   "metadata": {
    "collapsed": false
   },
   "outputs": [
    {
     "name": "stdout",
     "output_type": "stream",
     "text": [
      "[7, 0, 8, 0, 0, 0, 3, 0, 0]\n",
      "[0, 0, 0, 2, 0, 1, 0, 0, 0]\n",
      "[5, 0, 0, 0, 0, 0, 0, 0, 0]\n",
      "[0, 4, 0, 0, 0, 0, 0, 2, 6]\n",
      "[3, 0, 0, 0, 8, 0, 0, 0, 0]\n",
      "[0, 0, 0, 1, 0, 0, 0, 9, 0]\n",
      "[0, 9, 0, 6, 0, 0, 0, 0, 4]\n",
      "[0, 0, 0, 0, 7, 0, 5, 0, 0]\n",
      "[0, 0, 0, 0, 0, 0, 0, 0, 0]\n"
     ]
    }
   ],
   "source": [
    "def printBoard(board):\n",
    "    for i in xrange(9):\n",
    "        print board[i * 9: i * 9 + 9]\n",
    "    \n",
    "printBoard(board) "
   ]
  },
  {
   "cell_type": "code",
   "execution_count": 279,
   "metadata": {
    "collapsed": true
   },
   "outputs": [],
   "source": [
    "s = Sudoku(board)"
   ]
  },
  {
   "cell_type": "code",
   "execution_count": 280,
   "metadata": {
    "collapsed": false
   },
   "outputs": [
    {
     "name": "stdout",
     "output_type": "stream",
     "text": [
      "success\n"
     ]
    }
   ],
   "source": [
    "solved = s.solution()"
   ]
  },
  {
   "cell_type": "code",
   "execution_count": 281,
   "metadata": {
    "collapsed": false
   },
   "outputs": [
    {
     "name": "stdout",
     "output_type": "stream",
     "text": [
      "[7, 2, 8, 9, 4, 6, 3, 1, 5]\n",
      "[9, 3, 4, 2, 5, 1, 6, 7, 8]\n",
      "[5, 1, 6, 7, 3, 8, 2, 4, 9]\n",
      "[1, 4, 7, 5, 9, 3, 8, 2, 6]\n",
      "[3, 6, 9, 4, 8, 2, 1, 5, 7]\n",
      "[8, 5, 2, 1, 6, 7, 4, 9, 3]\n",
      "[2, 9, 3, 6, 1, 5, 7, 8, 4]\n",
      "[4, 8, 1, 3, 7, 9, 5, 6, 2]\n",
      "[6, 7, 5, 8, 2, 4, 9, 3, 1]\n"
     ]
    }
   ],
   "source": [
    "printBoard(solved)"
   ]
  },
  {
   "cell_type": "markdown",
   "metadata": {},
   "source": [
    "### SamuelBeckett Play"
   ]
  },
  {
   "cell_type": "code",
   "execution_count": 300,
   "metadata": {
    "collapsed": true
   },
   "outputs": [],
   "source": [
    "def moves(n, enter = True):\n",
    "    if n == 0:\n",
    "        return\n",
    "    moves(n - 1, True)\n",
    "    if enter:\n",
    "        print 'Enter %d' %n\n",
    "    else:\n",
    "        print 'Exit %d' %n\n",
    "    moves(n - 1, False)"
   ]
  },
  {
   "cell_type": "code",
   "execution_count": 301,
   "metadata": {
    "collapsed": false
   },
   "outputs": [
    {
     "name": "stdout",
     "output_type": "stream",
     "text": [
      "Enter 1\n",
      "Enter 2\n",
      "Exit 1\n",
      "Enter 3\n",
      "Enter 1\n",
      "Exit 2\n",
      "Exit 1\n",
      "Enter 4\n",
      "Enter 1\n",
      "Enter 2\n",
      "Exit 1\n",
      "Exit 3\n",
      "Enter 1\n",
      "Exit 2\n",
      "Exit 1\n"
     ]
    }
   ],
   "source": [
    "moves(4)"
   ]
  },
  {
   "cell_type": "code",
   "execution_count": 309,
   "metadata": {
    "collapsed": false
   },
   "outputs": [
    {
     "data": {
      "text/plain": [
       "3"
      ]
     },
     "execution_count": 309,
     "metadata": {},
     "output_type": "execute_result"
    },
    {
     "name": "stdout",
     "output_type": "stream",
     "text": [
      "\n"
     ]
    }
   ],
   "source": [
    "a = [3, 1, 2]\n",
    "a.__len__()"
   ]
  },
  {
   "cell_type": "code",
   "execution_count": 310,
   "metadata": {
    "collapsed": false
   },
   "outputs": [
    {
     "name": "stdout",
     "output_type": "stream",
     "text": [
      "3 1 2\n"
     ]
    }
   ],
   "source": [
    "b = iter(a)\n",
    "print next(b), next(b), next(b)"
   ]
  },
  {
   "cell_type": "code",
   "execution_count": 311,
   "metadata": {
    "collapsed": true
   },
   "outputs": [],
   "source": [
    "class Vector():\n",
    "    def __init__(self, d):\n",
    "        self._coords = [0] * d\n",
    "    \n",
    "    def __len__(self):\n",
    "        return len(self._coords)\n",
    "\n",
    "    def __getitem__(self, j):\n",
    "        return self._coords[j]\n",
    "    \n",
    "    def __setitem__(self, j, val):\n",
    "        self._coords[j] = val\n",
    "    \n",
    "    def __add__(self, other):\n",
    "        if len(self) != len(other):\n",
    "            raise ValueError('dimensions must agree')\n",
    "        result = Vector(len(self))\n",
    "        for j in range(len(self)):\n",
    "            result[j] = self._coords[j] + other._coords[j]\n",
    "        return result\n",
    "    \n",
    "    def __eq__(self, other):\n",
    "        return self._coords == other._coords\n",
    "    \n",
    "    def __ne__(self, other):\n",
    "        return not self == other\n",
    "    \n",
    "    def __str__(self):\n",
    "        return '<' + str(self._coords)[1:-1] + '>' "
   ]
  },
  {
   "cell_type": "code",
   "execution_count": 316,
   "metadata": {
    "collapsed": false
   },
   "outputs": [
    {
     "name": "stdout",
     "output_type": "stream",
     "text": [
      "<4, 42, 0, 21, 45>\n"
     ]
    }
   ],
   "source": [
    "v = Vector(5)\n",
    "v[1] = 42\n",
    "v[-1] = 45\n",
    "w = Vector(5)\n",
    "w[0] = 4\n",
    "w[3] = 21\n",
    "print (v + w)"
   ]
  },
  {
   "cell_type": "code",
   "execution_count": 318,
   "metadata": {
    "collapsed": false
   },
   "outputs": [],
   "source": [
    "r = xrange(8, 140, 5)"
   ]
  },
  {
   "cell_type": "code",
   "execution_count": 323,
   "metadata": {
    "collapsed": false
   },
   "outputs": [
    {
     "name": "stdout",
     "output_type": "stream",
     "text": [
      "0 1 2 3 4 5 6 7 8 9\n"
     ]
    }
   ],
   "source": [
    "a = xrange(10)\n",
    "for i in a: print i,"
   ]
  },
  {
   "cell_type": "code",
   "execution_count": 334,
   "metadata": {
    "collapsed": true
   },
   "outputs": [],
   "source": [
    "class Greeting:\n",
    "    def __init__(self, name):\n",
    "        self.name = name\n",
    "    def __del__(self):\n",
    "        print \"Destructor started\"\n",
    "    def SayHello(self):\n",
    "        print \"Hello\", self.name"
   ]
  },
  {
   "cell_type": "code",
   "execution_count": 342,
   "metadata": {
    "collapsed": false
   },
   "outputs": [
    {
     "name": "stdout",
     "output_type": "stream",
     "text": [
      "Destructor started\n"
     ]
    }
   ],
   "source": [
    "x = Greeting('Hua')\n",
    "y = x\n",
    "del y\n",
    "del x"
   ]
  },
  {
   "cell_type": "code",
   "execution_count": 343,
   "metadata": {
    "collapsed": true
   },
   "outputs": [],
   "source": [
    "class Counter(object): \n",
    "    number = 0 \n",
    " \n",
    "    def __init__(self): \n",
    "        type(self).number += 1 \n",
    " \n",
    "    def __del__(self): \n",
    "        type(self).number -= 1\n",
    "\n",
    "class Account(Counter): \n",
    "    def __init__(self, \n",
    "                 account_holder,\t\n",
    "                 account_number, \n",
    "                 balance, \n",
    "                 account_current=1500): \n",
    "        Counter.__init__(self)"
   ]
  },
  {
   "cell_type": "code",
   "execution_count": 344,
   "metadata": {
    "collapsed": true
   },
   "outputs": [],
   "source": [
    "boa = Account('hua', '2154', '200')"
   ]
  },
  {
   "cell_type": "code",
   "execution_count": 372,
   "metadata": {
    "collapsed": true
   },
   "outputs": [],
   "source": [
    "class Person(object):\n",
    "    def __init__(self, first, last):\n",
    "        self.firstname = first\n",
    "        self.lastname = last\n",
    "\n",
    "    def Name(self):\n",
    "        return self.firstname + \" \" + self.lastname\n",
    "\n",
    "class Employee(Person):\n",
    "    def __init__(self, first, last, staffnum):\n",
    "        super(Employee, self).__init__(first, last)\n",
    "        self.staffnumber = staffnum\n",
    "\n",
    "    def GetEmployee(self):\n",
    "        return self.Name() + \", \" +  self.staffnumber"
   ]
  },
  {
   "cell_type": "code",
   "execution_count": 366,
   "metadata": {
    "collapsed": false
   },
   "outputs": [],
   "source": [
    "a = Person('hua', 'qiang')"
   ]
  },
  {
   "cell_type": "code",
   "execution_count": 369,
   "metadata": {
    "collapsed": false
   },
   "outputs": [
    {
     "name": "stdout",
     "output_type": "stream",
     "text": [
      "hua qiang\n"
     ]
    }
   ],
   "source": [
    "print a.Name()"
   ]
  },
  {
   "cell_type": "code",
   "execution_count": 375,
   "metadata": {
    "collapsed": false
   },
   "outputs": [],
   "source": [
    "b = Employee('hua', 'qiang', '34')"
   ]
  },
  {
   "cell_type": "code",
   "execution_count": 376,
   "metadata": {
    "collapsed": false
   },
   "outputs": [
    {
     "data": {
      "text/plain": [
       "'hua qiang, 34'"
      ]
     },
     "execution_count": 376,
     "metadata": {},
     "output_type": "execute_result"
    }
   ],
   "source": [
    "b.GetEmployee()"
   ]
  },
  {
   "cell_type": "code",
   "execution_count": 377,
   "metadata": {
    "collapsed": false
   },
   "outputs": [
    {
     "name": "stdout",
     "output_type": "stream",
     "text": [
      "Quaaaaaack!\n",
      "The duck has white and gray feathers.\n",
      "The person imitates a duck.\n",
      "The person takes a feather from the ground and shows it.\n"
     ]
    }
   ],
   "source": [
    "class Duck:\n",
    "    def quack(self):\n",
    "        print(\"Quaaaaaack!\")\n",
    "    def feathers(self):\n",
    "        print(\"The duck has white and gray feathers.\")\n",
    "\n",
    "class Person:\n",
    "    def quack(self):\n",
    "        print(\"The person imitates a duck.\")\n",
    "    def feathers(self):\n",
    "        print(\"The person takes a feather from the ground and shows it.\")\n",
    "    def name(self):\n",
    "        print(\"John Smith\")\n",
    "\n",
    "def in_the_forest(duck):\n",
    "    duck.quack()\n",
    "    duck.feathers()\n",
    "\n",
    "def game():\n",
    "    donald = Duck()\n",
    "    john = Person()\n",
    "    in_the_forest(donald)\n",
    "    in_the_forest(john)\n",
    "\n",
    "game()"
   ]
  },
  {
   "cell_type": "code",
   "execution_count": 379,
   "metadata": {
    "collapsed": true
   },
   "outputs": [],
   "source": [
    "F=type('Food',(),{'remember2buy':'spam'})\n",
    "E=type('Eggs',(F,),{'remember2buy':'eggs'})\n",
    "G=type('GoodFood',(E,F),{})"
   ]
  },
  {
   "cell_type": "code",
   "execution_count": 380,
   "metadata": {
    "collapsed": false
   },
   "outputs": [
    {
     "data": {
      "text/plain": [
       "'eggs'"
      ]
     },
     "execution_count": 380,
     "metadata": {},
     "output_type": "execute_result"
    }
   ],
   "source": [
    "G.remember2buy"
   ]
  },
  {
   "cell_type": "code",
   "execution_count": null,
   "metadata": {
    "collapsed": true
   },
   "outputs": [],
   "source": []
  }
 ],
 "metadata": {
  "anaconda-cloud": {},
  "kernelspec": {
   "display_name": "Python [default]",
   "language": "python",
   "name": "python2"
  },
  "language_info": {
   "codemirror_mode": {
    "name": "ipython",
    "version": 2
   },
   "file_extension": ".py",
   "mimetype": "text/x-python",
   "name": "python",
   "nbconvert_exporter": "python",
   "pygments_lexer": "ipython2",
   "version": "2.7.12"
  }
 },
 "nbformat": 4,
 "nbformat_minor": 1
}
