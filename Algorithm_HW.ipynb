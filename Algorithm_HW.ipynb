{
 "cells": [
  {
   "cell_type": "markdown",
   "metadata": {},
   "source": [
    "### MineSweeper"
   ]
  },
  {
   "cell_type": "code",
   "execution_count": 1,
   "metadata": {
    "collapsed": true
   },
   "outputs": [],
   "source": [
    "from numpy.random import binomial"
   ]
  },
  {
   "cell_type": "code",
   "execution_count": 2,
   "metadata": {
    "collapsed": true
   },
   "outputs": [],
   "source": [
    "def mineSweeper(n, m, p):\n",
    "    \"\"\"\n",
    "    n type: int\n",
    "    m type: int\n",
    "    x type: float, 0 < p < 1\n",
    "    \"\"\"\n",
    "    grid = [[0 for _ in range(m)] for _ in range(n)] # generate the empty board\n",
    "    directions = ((1, 0), (-1, 0), (0, 1), (0, -1), (1, 1), (1, -1), (-1, 1), (-1, -1))\n",
    "    \n",
    "    for i in xrange(n):\n",
    "        for j in xrange(m):\n",
    "            if binomial(1, p): # it is a bomb\n",
    "                grid[i][j] = '#'\n",
    "    for i in xrange(n):\n",
    "        for j in xrange(m):\n",
    "            if grid[i][j] == '#':\n",
    "                continue\n",
    "            else:\n",
    "                count = 0\n",
    "                for direction in directions:\n",
    "                    x, y = i + direction[0], j + direction[1]\n",
    "                    if x < 0 or x >= n or y < 0 or y >= m:\n",
    "                        continue\n",
    "                    elif grid[x][y] == '#':\n",
    "                        count += 1\n",
    "                grid[i][j] = count # update the number of mines around the grid point\n",
    "    return grid\n",
    "            \n",
    "            "
   ]
  },
  {
   "cell_type": "code",
   "execution_count": 3,
   "metadata": {
    "collapsed": false
   },
   "outputs": [],
   "source": [
    "m = 4\n",
    "n = 3"
   ]
  },
  {
   "cell_type": "code",
   "execution_count": 4,
   "metadata": {
    "collapsed": false
   },
   "outputs": [
    {
     "data": {
      "text/plain": [
       "[['#', 2, 1], [1, 2, '#'], [1, 2, 2], [1, '#', 1]]"
      ]
     },
     "execution_count": 4,
     "metadata": {},
     "output_type": "execute_result"
    }
   ],
   "source": [
    "mineSweeper(m, n, 0.3)"
   ]
  },
  {
   "cell_type": "markdown",
   "metadata": {},
   "source": [
    "### Fibonacci"
   ]
  },
  {
   "cell_type": "code",
   "execution_count": 5,
   "metadata": {
    "collapsed": true
   },
   "outputs": [],
   "source": [
    "def Fibonacci(n): # as a generator\n",
    "    a = 1\n",
    "    b = 1\n",
    "    i = 0\n",
    "    while i < n:\n",
    "        yield a\n",
    "        a, b = b, a + b\n",
    "        i += 1"
   ]
  },
  {
   "cell_type": "code",
   "execution_count": 6,
   "metadata": {
    "collapsed": true
   },
   "outputs": [],
   "source": [
    "# time complexity: O(n) when calling the iterator"
   ]
  },
  {
   "cell_type": "code",
   "execution_count": 7,
   "metadata": {
    "collapsed": false
   },
   "outputs": [
    {
     "name": "stdout",
     "output_type": "stream",
     "text": [
      "1 1 2 3 5 8 13 21 34 55\n"
     ]
    }
   ],
   "source": [
    "for i in Fibonacci(10):\n",
    "    print i,"
   ]
  },
  {
   "cell_type": "code",
   "execution_count": 8,
   "metadata": {
    "collapsed": true
   },
   "outputs": [],
   "source": [
    "def Fibonacci(n): # iterative\n",
    "    ans = []\n",
    "    a = b = 1\n",
    "    for i in xrange(n):\n",
    "        ans.append(a)\n",
    "        a, b = b, a + b\n",
    "    return ans"
   ]
  },
  {
   "cell_type": "code",
   "execution_count": 9,
   "metadata": {
    "collapsed": true
   },
   "outputs": [],
   "source": [
    "# time complexity: O(n)"
   ]
  },
  {
   "cell_type": "code",
   "execution_count": 10,
   "metadata": {
    "collapsed": false
   },
   "outputs": [
    {
     "data": {
      "text/plain": [
       "[1, 1, 2, 3, 5, 8, 13, 21, 34, 55]"
      ]
     },
     "execution_count": 10,
     "metadata": {},
     "output_type": "execute_result"
    }
   ],
   "source": [
    "Fibonacci(10)"
   ]
  },
  {
   "cell_type": "code",
   "execution_count": 11,
   "metadata": {
    "collapsed": true
   },
   "outputs": [],
   "source": [
    "class Solution(object):\n",
    "    def Fibonacci(self, n):\n",
    "        if n == 1 or n == 2:\n",
    "            return 1\n",
    "        return self.Fibonacci(n - 1) + self.Fibonacci(n - 2)"
   ]
  },
  {
   "cell_type": "markdown",
   "metadata": {},
   "source": [
    "### time complexity, $\\mathcal{O}(\\alpha^n), \\alpha = \\frac{\\sqrt{5} + 1}{2}$"
   ]
  },
  {
   "cell_type": "code",
   "execution_count": 12,
   "metadata": {
    "collapsed": false
   },
   "outputs": [
    {
     "data": {
      "text/plain": [
       "55"
      ]
     },
     "execution_count": 12,
     "metadata": {},
     "output_type": "execute_result"
    }
   ],
   "source": [
    "a = Solution()\n",
    "a.Fibonacci(10)"
   ]
  },
  {
   "cell_type": "markdown",
   "metadata": {},
   "source": [
    "### Power"
   ]
  },
  {
   "cell_type": "code",
   "execution_count": 13,
   "metadata": {
    "collapsed": true
   },
   "outputs": [],
   "source": [
    "def power(a, b):\n",
    "    \"\"\"\n",
    "    a type: int\n",
    "    b type: int\n",
    "    \"\"\"\n",
    "    return a * b"
   ]
  },
  {
   "cell_type": "code",
   "execution_count": 14,
   "metadata": {
    "collapsed": true
   },
   "outputs": [],
   "source": [
    "def power(a, b):\n",
    "    ans = 0\n",
    "    for i in xrange(a):\n",
    "        ans += b\n",
    "    return ans"
   ]
  },
  {
   "cell_type": "code",
   "execution_count": 15,
   "metadata": {
    "collapsed": false
   },
   "outputs": [
    {
     "data": {
      "text/plain": [
       "0.00021409988403320312"
      ]
     },
     "execution_count": 15,
     "metadata": {},
     "output_type": "execute_result"
    }
   ],
   "source": [
    "import timeit\n",
    "timeit.timeit('1234 * 5432', number = 1000)"
   ]
  },
  {
   "cell_type": "code",
   "execution_count": 16,
   "metadata": {
    "collapsed": false
   },
   "outputs": [
    {
     "data": {
      "text/plain": [
       "0.9092259407043457"
      ]
     },
     "execution_count": 16,
     "metadata": {},
     "output_type": "execute_result"
    }
   ],
   "source": [
    "code = \"\"\"\n",
    "ans = 0\n",
    "for _ in xrange(5432):\n",
    "    ans += 1234\n",
    "\"\"\"\n",
    "\n",
    "timeit.timeit(code, number = 1000)"
   ]
  },
  {
   "cell_type": "markdown",
   "metadata": {},
   "source": [
    "### Rotate Matrix"
   ]
  },
  {
   "cell_type": "code",
   "execution_count": 17,
   "metadata": {
    "collapsed": true
   },
   "outputs": [],
   "source": [
    "def rotateMatrix(matrix, inplace = False):\n",
    "    \"\"\"\n",
    "    matrix type: List[List[data-type]]\n",
    "    rtype: List[List[data-type]]\n",
    "    \"\"\"\n",
    "    n = len(matrix)\n",
    "    if inplace:\n",
    "        for i in xrange((n + 1)// 2):\n",
    "            for j in xrange(n // 2):\n",
    "                a = matrix[i][j]\n",
    "                b = matrix[n - 1 - j][i]\n",
    "                c = matrix[n - 1 - i][n - 1 - j]\n",
    "                d = matrix[j][n - 1 - i]\n",
    "                matrix[i][j] = d\n",
    "                matrix[n - 1 - j][i] = a\n",
    "                matrix[n - 1 - i][n - 1 - j] = b\n",
    "                matrix[j][n - 1 - i] = c\n",
    "        return matrix\n",
    "    else:\n",
    "        rotated_matrix = [[0 for _ in range(n)] for _ in range(n)]\n",
    "        for i in xrange(n):\n",
    "            for j in xrange(n):\n",
    "                rotated_matrix[i][j] = matrix[j][n - 1- i]\n",
    "        return rotated_matrix"
   ]
  },
  {
   "cell_type": "code",
   "execution_count": 18,
   "metadata": {
    "collapsed": true
   },
   "outputs": [],
   "source": [
    "matrix = [[1, 2, 3, 4], \n",
    "          [5, 6, 7, 8], \n",
    "          [9, 10, 11, 12],\n",
    "          [13, 14, 15, 16]]"
   ]
  },
  {
   "cell_type": "code",
   "execution_count": 19,
   "metadata": {
    "collapsed": false
   },
   "outputs": [
    {
     "data": {
      "text/plain": [
       "[[4, 8, 12, 16], [3, 7, 11, 15], [2, 6, 10, 14], [1, 5, 9, 13]]"
      ]
     },
     "execution_count": 19,
     "metadata": {},
     "output_type": "execute_result"
    }
   ],
   "source": [
    "rotateMatrix(matrix)"
   ]
  },
  {
   "cell_type": "code",
   "execution_count": 20,
   "metadata": {
    "collapsed": false
   },
   "outputs": [
    {
     "data": {
      "text/plain": [
       "[[4, 8, 12, 16], [3, 7, 11, 15], [2, 6, 10, 14], [1, 5, 9, 13]]"
      ]
     },
     "execution_count": 20,
     "metadata": {},
     "output_type": "execute_result"
    }
   ],
   "source": [
    "rotateMatrix(matrix, inplace = True)"
   ]
  },
  {
   "cell_type": "markdown",
   "metadata": {},
   "source": [
    "### Suduko Verifier"
   ]
  },
  {
   "cell_type": "code",
   "execution_count": 21,
   "metadata": {
    "collapsed": true
   },
   "outputs": [],
   "source": [
    "def sudukoVerifier(sudoku):\n",
    "    \"\"\"\n",
    "    sudoku type: List[List[int]]\n",
    "           dim: 9 * 9\n",
    "           int lies in [1, 9]\n",
    "    rtype: bool\n",
    "    \"\"\"\n",
    "    def rightPattern(array):\n",
    "        \"\"\"\n",
    "        array type: List[int]\n",
    "        rtype: bool\n",
    "        \"\"\"\n",
    "        return sorted(array) == range(1, 10)\n",
    "    \n",
    "    # check row\n",
    "    for i in xrange(9):\n",
    "        if not rightPattern(sudoku[i]):\n",
    "            print 'The %d-th row is not correct pattern' %(i + 1)\n",
    "            return False\n",
    "    \n",
    "    # check column\n",
    "    for j in xrange(9):\n",
    "        column = []\n",
    "        for i in xrange(9):\n",
    "            column.append(sudoku[i][j])\n",
    "        if not rightPattern(column):\n",
    "            print 'The %d-th column is not correct pattern' %(j + 1)\n",
    "            return False\n",
    "    \n",
    "    # check subboxes\n",
    "    row_groups = [[0, 1, 2], [3, 4, 5], [6, 7, 8]]\n",
    "    column_groups = row_groups[::]\n",
    "    \n",
    "    for row_group in row_groups:\n",
    "        for column_group in column_groups:\n",
    "            box = []\n",
    "            for i in row_group:\n",
    "                for j in column_group:\n",
    "                    box.append(sudoku[i][j])\n",
    "            if not rightPattern(box):\n",
    "                print 'The reigion (%d, %d) is not correct pattern' %(i // 3 + 1, j // 3 + 1)\n",
    "                print box\n",
    "                return False\n",
    "    return True "
   ]
  },
  {
   "cell_type": "code",
   "execution_count": 22,
   "metadata": {
    "collapsed": false
   },
   "outputs": [],
   "source": [
    "A = [\n",
    "    [6,5,8,9,7,2,4,1,3],\n",
    "    [9,4,7,6,5,1,2,3,8],\n",
    "    [8,3,6,7,2,9,5,4,1],\n",
    "    [5,2,1,4,3,8,6,7,9],\n",
    "    [3,6,4,8,9,5,1,2,7],\n",
    "    [1,8,9,2,4,7,3,5,6],\n",
    "    [2,7,5,3,1,6,8,9,4],\n",
    "    [7,1,3,5,6,4,9,8,2],\n",
    "    [4,9,2,1,8,3,7,6,5]\n",
    "]"
   ]
  },
  {
   "cell_type": "code",
   "execution_count": 23,
   "metadata": {
    "collapsed": false
   },
   "outputs": [
    {
     "name": "stdout",
     "output_type": "stream",
     "text": [
      "The reigion (1, 1) is not correct pattern\n",
      "[6, 5, 8, 9, 4, 7, 8, 3, 6]\n"
     ]
    },
    {
     "data": {
      "text/plain": [
       "False"
      ]
     },
     "execution_count": 23,
     "metadata": {},
     "output_type": "execute_result"
    }
   ],
   "source": [
    "sudukoVerifier(A)"
   ]
  },
  {
   "cell_type": "markdown",
   "metadata": {},
   "source": [
    "### Beginning of a Loop"
   ]
  },
  {
   "cell_type": "code",
   "execution_count": 24,
   "metadata": {
    "collapsed": true
   },
   "outputs": [],
   "source": [
    "class Node(object):\n",
    "    def __init__(self, val = None, next_Node = None):\n",
    "        self.val = val\n",
    "        self.next = next_Node\n",
    "\n",
    "class Solution(object):\n",
    "    def circularPoint(self, head):\n",
    "        \"\"\"\n",
    "        head type: Node\n",
    "        rtype : Node\n",
    "        \"\"\"\n",
    "        slow = fast = head\n",
    "        \n",
    "        while fast and fast.next:\n",
    "            fast = fast.next.next\n",
    "            slow = slow.next\n",
    "            if slow == fast:\n",
    "                break\n",
    "        if not fast: # there is no loop\n",
    "            return fast\n",
    "        else:\n",
    "            fast = head\n",
    "            while slow != fast:\n",
    "                fast = fast.next\n",
    "                slow = slow.next\n",
    "            return fast\n",
    "        "
   ]
  },
  {
   "cell_type": "code",
   "execution_count": 25,
   "metadata": {
    "collapsed": true
   },
   "outputs": [],
   "source": [
    "head = Node(0)\n",
    "node1 = Node(1)\n",
    "node2 = Node(2) # starting point of loop\n",
    "node3 = Node(3)\n",
    "node4 = Node(4)\n",
    "node5 = Node(5)\n",
    "tail = Node(6)\n",
    "head.next = node1\n",
    "node1.next = node2\n",
    "node2.next = node3\n",
    "node3.next = node4\n",
    "node4.next = node5\n",
    "node5.next = tail\n",
    "tail.next = node2"
   ]
  },
  {
   "cell_type": "code",
   "execution_count": 26,
   "metadata": {
    "collapsed": false
   },
   "outputs": [
    {
     "data": {
      "text/plain": [
       "True"
      ]
     },
     "execution_count": 26,
     "metadata": {},
     "output_type": "execute_result"
    }
   ],
   "source": [
    "a = Solution()\n",
    "a.circularPoint(head) == node2"
   ]
  },
  {
   "cell_type": "markdown",
   "metadata": {},
   "source": [
    "### Split a linked list"
   ]
  },
  {
   "cell_type": "code",
   "execution_count": 27,
   "metadata": {
    "collapsed": true
   },
   "outputs": [],
   "source": [
    "class Solution(object):\n",
    "    def Split(self, head):\n",
    "        \"\"\"\n",
    "        head type: Node\n",
    "        rtype: tuple(Node, Node)\n",
    "        \"\"\"\n",
    "        \n",
    "        if not head or not head.next: # nothing to split\n",
    "            return head \n",
    "        \n",
    "        fast = slow = head\n",
    "        prev = Node(0) # a dummy node\n",
    "        while fast and fast.next:\n",
    "            prev = slow\n",
    "            fast = fast.next.next\n",
    "            slow = slow.next\n",
    "        \n",
    "        prev.next = None # cut the link\n",
    "        # if we have even number of nodes, the split havles the list\n",
    "        # if we have odd number of nodes, the tail half has one more element\n",
    "        return head, slow"
   ]
  },
  {
   "cell_type": "code",
   "execution_count": 28,
   "metadata": {
    "collapsed": true
   },
   "outputs": [],
   "source": [
    "a = Solution()"
   ]
  },
  {
   "cell_type": "code",
   "execution_count": 29,
   "metadata": {
    "collapsed": true
   },
   "outputs": [],
   "source": [
    "tail.next = None"
   ]
  },
  {
   "cell_type": "code",
   "execution_count": 30,
   "metadata": {
    "collapsed": false
   },
   "outputs": [],
   "source": [
    "_, split_node = a.Split(head) "
   ]
  },
  {
   "cell_type": "code",
   "execution_count": 31,
   "metadata": {
    "collapsed": false
   },
   "outputs": [
    {
     "data": {
      "text/plain": [
       "True"
      ]
     },
     "execution_count": 31,
     "metadata": {},
     "output_type": "execute_result"
    }
   ],
   "source": [
    "split_node == node3"
   ]
  },
  {
   "cell_type": "markdown",
   "metadata": {
    "collapsed": true
   },
   "source": [
    "### Swap Nodes in Pairs"
   ]
  },
  {
   "cell_type": "code",
   "execution_count": 32,
   "metadata": {
    "collapsed": false
   },
   "outputs": [],
   "source": [
    "class Solution(object):\n",
    "    def swapNodeInPairs(self, head):\n",
    "        \"\"\"\n",
    "        head type: Node\n",
    "        rtype: Node\n",
    "        \"\"\"      \n",
    "        if not head or not head.next:\n",
    "            return head\n",
    "        \n",
    "        prev_Node = Node()\n",
    "        prev_Node.next = head\n",
    "        curr_Node = head\n",
    "        new_head = head.next\n",
    "        \n",
    "        while curr_Node and curr_Node.next:\n",
    "            next_Node = curr_Node.next\n",
    "            \n",
    "            curr_Node.next = next_Node.next\n",
    "            next_Node.next = curr_Node\n",
    "            prev_Node.next = next_Node \n",
    "            \n",
    "            prev_Node = curr_Node\n",
    "            curr_Node = curr_Node.next\n",
    "        \n",
    "        return new_head        "
   ]
  },
  {
   "cell_type": "code",
   "execution_count": 33,
   "metadata": {
    "collapsed": false
   },
   "outputs": [
    {
     "name": "stdout",
     "output_type": "stream",
     "text": [
      "The values of the nodes are:\n",
      "1 2 3 4 5\n"
     ]
    }
   ],
   "source": [
    "# test case\n",
    "a = [1, 2, 3, 4, 5]\n",
    "listNode = []\n",
    "for i in a:\n",
    "    node = Node(i)\n",
    "    listNode.append(node)\n",
    "for i in xrange(len(listNode) - 1):\n",
    "    listNode[i].next = listNode[i + 1]\n",
    "print 'The values of the nodes are:'\n",
    "for node in listNode:\n",
    "    print node.val,\n",
    "\n",
    "s = Solution()"
   ]
  },
  {
   "cell_type": "code",
   "execution_count": 34,
   "metadata": {
    "collapsed": false
   },
   "outputs": [
    {
     "name": "stdout",
     "output_type": "stream",
     "text": [
      "2 1 4 3 5\n"
     ]
    }
   ],
   "source": [
    "head = s.swapNodeInPairs(listNode[0])\n",
    "while head:\n",
    "    print head.val,\n",
    "    head = head.next"
   ]
  },
  {
   "cell_type": "markdown",
   "metadata": {},
   "source": [
    "### Remove Duplicates from Sorted List"
   ]
  },
  {
   "cell_type": "code",
   "execution_count": 35,
   "metadata": {
    "collapsed": true
   },
   "outputs": [],
   "source": [
    "class Solution(object):\n",
    "    def removeDuplicates(self, head):\n",
    "        \"\"\"\n",
    "        head type: Node\n",
    "        rtype: Node\n",
    "        \n",
    "        the linked list is sorted in values, so duplicates are linked with each other\n",
    "        \"\"\"\n",
    "        if not head or not head.next:\n",
    "            return head\n",
    "        \n",
    "        curr_Node = head\n",
    "        probe = curr_Node.next\n",
    "        \n",
    "        while probe:\n",
    "            if probe.val == curr_Node.val:\n",
    "                probe = probe.next\n",
    "            else:\n",
    "                curr_Node.next = probe\n",
    "                curr_Node = probe\n",
    "                probe = probe.next\n",
    "        \n",
    "        return head"
   ]
  },
  {
   "cell_type": "code",
   "execution_count": 36,
   "metadata": {
    "collapsed": false
   },
   "outputs": [
    {
     "name": "stdout",
     "output_type": "stream",
     "text": [
      "The values of the nodes are:\n",
      "1 1 2 2 2 3 4 4 5 5 5 5 7\n"
     ]
    }
   ],
   "source": [
    "# test case\n",
    "a = [1, 1, 2, 2, 2, 3, 4, 4, 5, 5, 5, 5, 7]\n",
    "listNode = []\n",
    "for i in a:\n",
    "    node = Node(i)\n",
    "    listNode.append(node)\n",
    "for i in xrange(len(listNode) - 1):\n",
    "    listNode[i].next = listNode[i + 1]\n",
    "print 'The values of the nodes are:'\n",
    "for node in listNode:\n",
    "    print node.val,\n",
    "\n",
    "s = Solution()"
   ]
  },
  {
   "cell_type": "code",
   "execution_count": 37,
   "metadata": {
    "collapsed": false
   },
   "outputs": [
    {
     "name": "stdout",
     "output_type": "stream",
     "text": [
      "1 --> 2 --> 3 --> 4 --> 5 --> 7 --> None\n"
     ]
    }
   ],
   "source": [
    "head = s.removeDuplicates(listNode[0])\n",
    "while head:\n",
    "    print head.val, '-->',\n",
    "    head = head.next\n",
    "print None"
   ]
  },
  {
   "cell_type": "markdown",
   "metadata": {},
   "source": [
    "### Remove Duplicates from Sorted List II"
   ]
  },
  {
   "cell_type": "code",
   "execution_count": 38,
   "metadata": {
    "collapsed": true
   },
   "outputs": [],
   "source": [
    "class Solution(object):\n",
    "    def removeDuplicates(self, head):\n",
    "        \"\"\"\n",
    "        head type: Node\n",
    "        rtype: Node\n",
    "        \n",
    "        the linked list is sorted in values, so duplicates are linked with each other, we \n",
    "        remove any node whose value appear more than once\n",
    "        \"\"\"        \n",
    "        neq_left = True # not equal to the left node\n",
    "        found_head = False\n",
    "        new_head = Node() # return this value\n",
    "        prev = Node()\n",
    "        \n",
    "        curr_Node = head\n",
    "        while curr_Node:\n",
    "            neq_right = False\n",
    "            if not curr_Node.next or curr_Node.next.val != curr_Node.val:\n",
    "                neq_right = True\n",
    "            \n",
    "            if neq_left and neq_right: # a unique node\n",
    "                prev.next = curr_Node # update the links\n",
    "                prev = curr_Node\n",
    "                \n",
    "                if not found_head:\n",
    "                    new_head = curr_Node\n",
    "                    found_head = True\n",
    "            \n",
    "            neq_left = neq_right # update the inequality relation for next node\n",
    "            curr_Node = curr_Node.next\n",
    "        \n",
    "        prev.next = None # None is an unique element\n",
    "        \n",
    "        return new_head "
   ]
  },
  {
   "cell_type": "code",
   "execution_count": 39,
   "metadata": {
    "collapsed": false
   },
   "outputs": [
    {
     "name": "stdout",
     "output_type": "stream",
     "text": [
      "The values of the nodes are:\n",
      "0 1 2 3 4 5 6 7 8 9\n"
     ]
    }
   ],
   "source": [
    "# test case1\n",
    "a = range(10)\n",
    "listNode = []\n",
    "for i in a:\n",
    "    node = Node(i)\n",
    "    listNode.append(node)\n",
    "for i in xrange(len(listNode) - 1):\n",
    "    listNode[i].next = listNode[i + 1]\n",
    "print 'The values of the nodes are:'\n",
    "for node in listNode:\n",
    "    print node.val,\n",
    "\n",
    "s = Solution()"
   ]
  },
  {
   "cell_type": "code",
   "execution_count": 40,
   "metadata": {
    "collapsed": false
   },
   "outputs": [
    {
     "name": "stdout",
     "output_type": "stream",
     "text": [
      "0 --> 1 --> 2 --> 3 --> 4 --> 5 --> 6 --> 7 --> 8 --> 9 --> None\n"
     ]
    }
   ],
   "source": [
    "head = s.removeDuplicates(listNode[0])\n",
    "while head:\n",
    "    print head.val, '-->',\n",
    "    head = head.next\n",
    "print None"
   ]
  },
  {
   "cell_type": "code",
   "execution_count": 41,
   "metadata": {
    "collapsed": false
   },
   "outputs": [
    {
     "name": "stdout",
     "output_type": "stream",
     "text": [
      "The values of the nodes are:\n",
      "1 2 2 2 3 4 4 5 5 5 6 7 8 9 9 10 11 11 12 12 12 \n",
      "removing duplicates\n",
      "1 --> 3 --> 6 --> 7 --> 8 --> 10 --> None\n"
     ]
    }
   ],
   "source": [
    "# test case2\n",
    "a = [1, 2, 2, 2, 3, 4, 4, 5, 5, 5, 6, 7, 8, 9, 9, 10, 11, 11, 12, 12, 12]\n",
    "listNode = []\n",
    "for i in a:\n",
    "    node = Node(i)\n",
    "    listNode.append(node)\n",
    "for i in xrange(len(listNode) - 1):\n",
    "    listNode[i].next = listNode[i + 1]\n",
    "print 'The values of the nodes are:'\n",
    "for node in listNode:\n",
    "    print node.val,\n",
    "print ''\n",
    "print 'removing duplicates'\n",
    "head = s.removeDuplicates(listNode[0])\n",
    "while head:\n",
    "    print head.val, '-->',\n",
    "    head = head.next\n",
    "print None"
   ]
  },
  {
   "cell_type": "markdown",
   "metadata": {},
   "source": [
    "### Two Sum"
   ]
  },
  {
   "cell_type": "code",
   "execution_count": 42,
   "metadata": {
    "collapsed": true
   },
   "outputs": [],
   "source": [
    "class Solution(object):\n",
    "    def twoSum(self, nums, target):\n",
    "        \"\"\"\n",
    "        target type: int\n",
    "        nums type: List[int]\n",
    "        rtype: List[int, int]\n",
    "        time complexity: O(n^2)\n",
    "        extra space: O(1)\n",
    "        \"\"\"\n",
    "        n = len(nums)\n",
    "        for i in xrange(n):\n",
    "            for j in xrange(i + 1, n):\n",
    "                if nums[i] + nums[j] == target:\n",
    "                    return [i, j]\n",
    "        \n",
    "        return []\n",
    "    \n",
    "    def twoSumFast(self, nums, target):\n",
    "        \"\"\"\n",
    "        time complexity: O(n) # generate hash table in O(n), search is O(1)\n",
    "        extra space: O(n)\n",
    "        \"\"\"\n",
    "        values = {}\n",
    "        for i in xrange(len(nums)):\n",
    "            if nums[i] in values:\n",
    "                values[nums[i]].append(i)\n",
    "            else:\n",
    "                values[nums[i]] = [i]\n",
    "        \n",
    "        for i in xrange(len(nums)):\n",
    "            if target - nums[i] in values:\n",
    "                for index in values[target - nums[i]]:\n",
    "                    if index != i:\n",
    "                        return [min(i, index), max(i, index)]\n",
    "        return []\n",
    "        "
   ]
  },
  {
   "cell_type": "code",
   "execution_count": 43,
   "metadata": {
    "collapsed": true
   },
   "outputs": [],
   "source": [
    "nums = range(20)\n",
    "target = 24\n",
    "s = Solution()"
   ]
  },
  {
   "cell_type": "code",
   "execution_count": 44,
   "metadata": {
    "collapsed": false
   },
   "outputs": [
    {
     "name": "stdout",
     "output_type": "stream",
     "text": [
      "[5, 19]\n",
      "[5, 19]\n"
     ]
    }
   ],
   "source": [
    "print s.twoSum(nums, target)\n",
    "print s.twoSumFast(nums, target)"
   ]
  },
  {
   "cell_type": "markdown",
   "metadata": {},
   "source": [
    "### Contains Duplicates"
   ]
  },
  {
   "cell_type": "code",
   "execution_count": 45,
   "metadata": {
    "collapsed": true
   },
   "outputs": [],
   "source": [
    "def containDuplicates(nums):\n",
    "    \"\"\"\n",
    "    nums type: List[int]\n",
    "    return True if nums are all unique, False otherwise\n",
    "    \"\"\"\n",
    "    values = {}\n",
    "    for num in nums:\n",
    "        if num not in values:\n",
    "            values[num] = num\n",
    "        else:\n",
    "            print 'the number {:d} appears twice'.format(num)\n",
    "            return False\n",
    "    \n",
    "    return True"
   ]
  },
  {
   "cell_type": "code",
   "execution_count": 46,
   "metadata": {
    "collapsed": false
   },
   "outputs": [
    {
     "name": "stdout",
     "output_type": "stream",
     "text": [
      "the number 0 appears twice\n"
     ]
    },
    {
     "data": {
      "text/plain": [
       "False"
      ]
     },
     "execution_count": 46,
     "metadata": {},
     "output_type": "execute_result"
    }
   ],
   "source": [
    "a = range(5) + range(10)\n",
    "containDuplicates(a)"
   ]
  },
  {
   "cell_type": "markdown",
   "metadata": {},
   "source": [
    "### Word Pattern"
   ]
  },
  {
   "cell_type": "code",
   "execution_count": 47,
   "metadata": {
    "collapsed": true
   },
   "outputs": [],
   "source": [
    "def wordPattern(pattern, string):\n",
    "    \"\"\"\n",
    "    pattern type: str\n",
    "    string type: str\n",
    "    rtype: bool\n",
    "    \"\"\"\n",
    "    words = string.strip().split(' ') # split the string into list of strings\n",
    "    if len(words)!= len(pattern):\n",
    "        return False\n",
    "    \n",
    "    table = {}\n",
    "    \n",
    "    for i in xrange(len(words)):\n",
    "        word = words[i]\n",
    "        code = pattern[i]\n",
    "        \n",
    "        if code not in table:\n",
    "            if word not in table.values():\n",
    "                # a new code and a new word, establish correspondence\n",
    "                table[code] = word\n",
    "            else:\n",
    "                # a new code, but we have seen the word before\n",
    "                return False\n",
    "        elif table[code] != word:\n",
    "            return False\n",
    "    \n",
    "    return True"
   ]
  },
  {
   "cell_type": "code",
   "execution_count": 48,
   "metadata": {
    "collapsed": false
   },
   "outputs": [
    {
     "name": "stdout",
     "output_type": "stream",
     "text": [
      "abba dog cat cat dog True\n",
      "abba dog cat cat fish False\n",
      "abba dog cat fish dog False\n",
      "abba dog dog dog dog False\n",
      "abba dog cat cat dog True\n",
      "abba dog cat cat fish False\n",
      "abba dog cat fish dog False\n",
      "abba dog dog dog dog False\n",
      "aaaa dog cat cat dog False\n",
      "aaaa dog cat cat fish False\n",
      "aaaa dog cat fish dog False\n",
      "aaaa dog dog dog dog True\n",
      "abca dog cat cat dog False\n",
      "abca dog cat cat fish False\n",
      "abca dog cat fish dog True\n",
      "abca dog dog dog dog False\n"
     ]
    }
   ],
   "source": [
    "patterns = ['abba', 'abba', 'aaaa', 'abca']\n",
    "strings = ['dog cat cat dog', 'dog cat cat fish', 'dog cat fish dog', 'dog dog dog dog']\n",
    "\n",
    "for pattern in patterns:\n",
    "    for string in strings:\n",
    "        print pattern, string, wordPattern(pattern, string)"
   ]
  },
  {
   "cell_type": "markdown",
   "metadata": {},
   "source": [
    "### Anagrams"
   ]
  },
  {
   "cell_type": "code",
   "execution_count": 49,
   "metadata": {
    "collapsed": true
   },
   "outputs": [],
   "source": [
    "def anagrams(strings):\n",
    "    \"\"\"\n",
    "    strings: List[str]\n",
    "    rtype: List[List[str]]\n",
    "    -----------\n",
    "    examples of anagrams: 'cat' is anagrams of 'act', 'tac', 'tca', 'atc', 'cta'\n",
    "    \"\"\"\n",
    "    prototypes = {}\n",
    "    for string in strings:\n",
    "        s = ''.join(sorted(string))\n",
    "        if s in prototypes:\n",
    "            prototypes[s].append(string)\n",
    "        else:\n",
    "            prototypes[s] = [string]\n",
    "    \n",
    "    return prototypes.values()"
   ]
  },
  {
   "cell_type": "code",
   "execution_count": 50,
   "metadata": {
    "collapsed": false
   },
   "outputs": [
    {
     "data": {
      "text/plain": [
       "[['lod', 'old'], ['ae', 'ea'], ['ta', 'at'], ['act', 'tac', 'tca', 'atc']]"
      ]
     },
     "execution_count": 50,
     "metadata": {},
     "output_type": "execute_result"
    }
   ],
   "source": [
    "strings = ['act', 'ta', 'ae', 'lod', 'tac', 'old', 'ea', 'at', 'tca', 'atc']\n",
    "anagrams(strings)"
   ]
  },
  {
   "cell_type": "code",
   "execution_count": null,
   "metadata": {
    "collapsed": true
   },
   "outputs": [],
   "source": []
  }
 ],
 "metadata": {
  "anaconda-cloud": {},
  "kernelspec": {
   "display_name": "Python [default]",
   "language": "python",
   "name": "python2"
  },
  "language_info": {
   "codemirror_mode": {
    "name": "ipython",
    "version": 2
   },
   "file_extension": ".py",
   "mimetype": "text/x-python",
   "name": "python",
   "nbconvert_exporter": "python",
   "pygments_lexer": "ipython2",
   "version": "2.7.12"
  }
 },
 "nbformat": 4,
 "nbformat_minor": 1
}
