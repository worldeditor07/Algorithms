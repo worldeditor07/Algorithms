{
 "cells": [
  {
   "cell_type": "markdown",
   "metadata": {},
   "source": [
    "<h1 id=\"tocheading\">LeetCode_Problems_II</h1>\n",
    "<div id=\"toc\"></div>"
   ]
  },
  {
   "cell_type": "code",
   "execution_count": 39,
   "metadata": {
    "collapsed": false
   },
   "outputs": [
    {
     "data": {
      "application/javascript": [
       "$.getScript('https://kmahelona.github.io/ipython_notebook_goodies/ipython_notebook_toc.js')"
      ],
      "text/plain": [
       "<IPython.core.display.Javascript object>"
      ]
     },
     "metadata": {},
     "output_type": "display_data"
    }
   ],
   "source": [
    "%%javascript\n",
    "$.getScript('https://kmahelona.github.io/ipython_notebook_goodies/ipython_notebook_toc.js')"
   ]
  },
  {
   "cell_type": "markdown",
   "metadata": {},
   "source": [
    "# Find Minimum Height Tree\n",
    "given a tree, we are asked to find the vertices such that using them as roots, the resulting tree has minimum heights\n",
    "mathematically, this is equivalent to find middle points in the longest path in the tree, and it is a single node if the\n",
    "longest path has even total length and two nodes otherwise."
   ]
  },
  {
   "cell_type": "markdown",
   "metadata": {},
   "source": [
    "## Algorithm\n",
    "My algorithm starts from a random (set to be zero) node as root and traverse the tree in a DFS way, each vertex has a   \n",
    "depth which computes the height of the subtree away from the root. Then we search the neighboring points of root. \n",
    "If there is a single subtree whose depth is at least two more than all the other subtree, we move to the child root\n",
    "Else, either the deepest subtree is of the same height as second deepest subtree, in which case the current root is unique\n",
    "root of a MHT; or they differ by 1 in depth in which case both current root and the deepest subtree child root are returned\n",
    "\n",
    "dfs() is implemented to perform the traversal and calculate depth, it's done in $\\mathcal{O}(n)$-time\n",
    " \n",
    "checkMHT() checks if we have found the solution, the neighborhood depth are sorted and compared, when the degrees d remain \n",
    "bounded by a constant, this is roughly constant time $\\mathcal{O}(d)$\n",
    "\n",
    "move() changes the node under consideration and update the depth of the current node, it's computed in $\\mathcal{O}(d)$ time"
   ]
  },
  {
   "cell_type": "code",
   "execution_count": null,
   "metadata": {
    "collapsed": true
   },
   "outputs": [],
   "source": [
    "class Solution(object):\n",
    "    def findMinHeightTrees(self, n, edges):\n",
    "        \"\"\"\n",
    "        :type n: int\n",
    "        :type edges: List[List[int]]\n",
    "        :rtype: List[int]\n",
    "        \"\"\"\n",
    "        if n < 1:\n",
    "            return []\n",
    "        if n == 1:\n",
    "            return [0]\n",
    "        if n == 2:\n",
    "            return [0, 1]\n",
    "\n",
    "        visited = [False for _ in range(n)]\n",
    "        neighbors = [[] for _ in range(n)] # indexes for neighborhood nodes\n",
    "        depth = [0 for _ in range(n)]\n",
    "        node = 0\n",
    "        self.found = False\n",
    "        \n",
    "        for edge in edges:\n",
    "            neighbors[edge[0]].append(edge[1])\n",
    "            neighbors[edge[1]].append(edge[0])\n",
    "\n",
    "        self.dfs(visited, node, neighbors, depth)\n",
    "\n",
    "        while not self.found:\n",
    "            next_node = self.checkMHT(node, neighbors, depth)\n",
    "            self.move(node, next_node[0], neighbors, depth)\n",
    "            node = next_node[0]\n",
    "        return next_node\n",
    "    \n",
    "    def move(self, curr_node, next_node, neighbors, depth):\n",
    "        \"\"\"\n",
    "        move to the node with largest depth from current node, update the depth function\n",
    "        \"\"\"\n",
    "        h = 0\n",
    "        for v in neighbors[curr_node]:\n",
    "            if v != next_node:\n",
    "                h = max(h, 1 + depth[v])\n",
    "        depth[curr_node] = h\n",
    "        return\n",
    "        \n",
    "    \n",
    "    def checkMHT(self, node, neighbors, depth):\n",
    "        \"\"\"\n",
    "        check if the current node is a candidate for minimum height tree\n",
    "        if so, change the flag and return the List[Nodes]\n",
    "        if not, provide the direction to move List[Node]\n",
    "        \"\"\"\n",
    "        if len(neighbors[node]) == 1: # by our constraint, a leaf is not MHT\n",
    "            return neighbors[node]\n",
    "    \n",
    "        heights = sorted([[depth[v], v] for v in neighbors[node]], key = lambda x : x[0])\n",
    "        \n",
    "        if heights[-1][0] == heights[-2][0]: # there are two subtree with same largest depth, unique MHT\n",
    "            self.found = True\n",
    "            return [node]\n",
    "        elif heights[-1][0] == heights[-2][0] + 1:\n",
    "            self.found = True\n",
    "            return [node, heights[-1][1]] # both current node and the root of deepest subtree are MHT\n",
    "        else:\n",
    "            return [heights[-1][1]] # move to root of deepest subtree\n",
    "        \n",
    "    def dfs(self, visited, node, neighbors, depth):\n",
    "        visited[node] = True\n",
    "        h = 0 # default height\n",
    "        for v in neighbors[node]:\n",
    "            if not visited[v]:\n",
    "                self.dfs(visited, v, neighbors, depth)\n",
    "                h = max(h, depth[v] + 1) # update the height\n",
    "        depth[node] = h\n",
    "        return \n",
    "        "
   ]
  },
  {
   "cell_type": "markdown",
   "metadata": {},
   "source": [
    "BFS is a much simpler method, we successive remove leafs from the tree until we are left with 1 or 2 nodes"
   ]
  },
  {
   "cell_type": "code",
   "execution_count": null,
   "metadata": {
    "collapsed": true
   },
   "outputs": [],
   "source": [
    "class Solution(object):\n",
    "    def findMinHeightTrees(self, n, edges):\n",
    "        \"\"\"\n",
    "        :type n: int\n",
    "        :type edges: List[List[int]]\n",
    "        :rtype: List[int]\n",
    "        \"\"\"\n",
    "        if n < 1:\n",
    "            return []\n",
    "        if n == 1:\n",
    "            return [0]\n",
    "        \n",
    "        neighbors = [[] for _ in range(n)]\n",
    "        degree = [0] * n\n",
    "        \n",
    "        for edge in edges:\n",
    "            neighbors[edge[0]].append(edge[1])\n",
    "            neighbors[edge[1]].append(edge[0])\n",
    "            degree[edge[0]] += 1\n",
    "            degree[edge[1]] += 1\n",
    "        \n",
    "        print neighbors\n",
    "        print degree\n",
    "        \n",
    "        vertices = range(n)\n",
    "        unvisited = n\n",
    "        while unvisited > 2:\n",
    "            leaf = []\n",
    "            for v in vertices:\n",
    "                if degree[v] == 1: # it is a leaf\n",
    "                    leaf.append(v)\n",
    "            for v in leaf:\n",
    "                vertices.remove(v)\n",
    "                w = neighbors[v][0]\n",
    "                neighbors[w].remove(v)\n",
    "                degree[w] -= 1\n",
    "                unvisited -= 1\n",
    "            \n",
    "        return vertices "
   ]
  },
  {
   "cell_type": "code",
   "execution_count": null,
   "metadata": {
    "collapsed": false
   },
   "outputs": [],
   "source": [
    "s = Solution()\n",
    "n = 4\n",
    "edges = [[1, 0], [1, 2], [1, 3]]\n",
    "s.findMinHeightTrees(n, edges)"
   ]
  },
  {
   "cell_type": "markdown",
   "metadata": {
    "collapsed": true
   },
   "source": [
    "# Word Break\n",
    "Given a non-empty string s and a dictionary wordDict containing a list of non-empty words, determine if s can be segmented into a space-separated sequence of one or more dictionary words. \n",
    "\n",
    "You may assume the dictionary does not contain duplicate words."
   ]
  },
  {
   "cell_type": "markdown",
   "metadata": {},
   "source": [
    "## Algorithm\n",
    "The solution is optimized to be done using dynamic programming. Note that the problem does not require the words in the wordDict \n",
    "to be used only once. The solution is based on the following recursive procedure:\n",
    "\n",
    "The word has to be partitioned into the form s[:cut] and s[cut:] for some cut point (can be 0) and we need the subword s[:cut] to be constructable and s[cut:] to be a word in wordDict. Rather than performing a recursive function, we keep track of whether the subword s[:i] can be constructed. This makes the full algorithm to run in $\\mathcal{O}$(len(word) * len(wordDict)) time.\n",
    "\n",
    "This is desired, for example, if instead we use a recursive procedure, a subword will be computed several times and the running time will go exponential. "
   ]
  },
  {
   "cell_type": "code",
   "execution_count": null,
   "metadata": {
    "collapsed": true
   },
   "outputs": [],
   "source": [
    "class Solution(object):\n",
    "    def wordBreak(self, s, wordDict):\n",
    "        \"\"\"\n",
    "        :type s: str\n",
    "        :type wordDict: List[str]\n",
    "        :rtype: bool\n",
    "        \"\"\"\n",
    "        dp = [False] * len(s)\n",
    "        for i in xrange(len(s)):\n",
    "            for word in wordDict:\n",
    "                if (word == s[i-len(word) + 1:i + 1]) and (i - len(word) == -1 or dp[i-len(word)] is True):\n",
    "                    dp[i] = True\n",
    "        return dp[-1]"
   ]
  },
  {
   "cell_type": "code",
   "execution_count": null,
   "metadata": {
    "collapsed": true
   },
   "outputs": [],
   "source": [
    "class Solution(object):\n",
    "    def wordBreak(self, s, wordDict):\n",
    "        \"\"\"\n",
    "        :type s: str\n",
    "        :type wordDict: List[str]\n",
    "        :rtype: bool\n",
    "        \"\"\"\n",
    "        dp = [True] # stores where we can build the partial word s[:i]\n",
    "        for i in xrange(1, len(s) + 1):\n",
    "            ok = any(dp[j] and s[j:i] in wordDict for j in xrange(i))\n",
    "            dp.append(ok)\n",
    "        return dp[-1]"
   ]
  },
  {
   "cell_type": "code",
   "execution_count": null,
   "metadata": {
    "collapsed": false
   },
   "outputs": [],
   "source": [
    "s = Solution()\n",
    "w = \"leetcode\"\n",
    "wordDict = [\"leet\", \"code\"]\n",
    "s.wordBreak(w, wordDict)"
   ]
  },
  {
   "cell_type": "markdown",
   "metadata": {},
   "source": [
    "# Gas Station\n",
    "There are N gas stations along a circular route, where the amount of gas at station i is gas[i].\n",
    "\n",
    "You have a car with an unlimited gas tank and it costs cost[i] of gas to travel from station i to its next station (i+1).\n",
    "\n",
    "You begin the journey with an empty tank at one of the gas stations.\n",
    "\n",
    "Return the starting gas station's index if you can travel around the circuit once, otherwise return -1."
   ]
  },
  {
   "cell_type": "markdown",
   "metadata": {},
   "source": [
    "## Algorithm\n",
    "The solution is simple, based on the following proposition which can be proved mathematically\n",
    "Let $a[i] = gas[i] - cost[i]$, then there exist an index $k$ such that:\n",
    "\\begin{align}\n",
    "    & a[k] \\ge 0 \\\\\n",
    "    & a[k] + a[k + 1] \\ge 0 \\\\\n",
    "    & ... \\\\\n",
    "    & a[k] + a[k + 1] + ... + a[n-1] + a[0] + ... + a[k - 1] \\ge 0\n",
    "\\end{align}\n",
    "if and only if the last equality $\\sum_{i = 0}^{n-1} a[i] \\ge 0$, and the index $k$ can be chosen to be the such that the partial sum $\\sum_{i=0} ^{k-1} a[i]$ is minimum (most negative)."
   ]
  },
  {
   "cell_type": "code",
   "execution_count": null,
   "metadata": {
    "collapsed": true
   },
   "outputs": [],
   "source": [
    "class Solution(object):\n",
    "    def canCompleteCircuit(self, gas, cost):\n",
    "        \"\"\"\n",
    "        :type gas: List[int]\n",
    "        :type cost: List[int]\n",
    "        :rtype: int\n",
    "        \"\"\"\n",
    "        n = len(gas)\n",
    "        if sum(gas) < sum(cost): # this is the only case where we can't finish the game\n",
    "            return -1\n",
    "        \n",
    "        aggregate = [0] * n # if we start from 0, agg[i] is the gas we would have when reach station i + 1\n",
    "        start = 0\n",
    "        tough = 0\n",
    "        \n",
    "        for i in xrange(n):\n",
    "            extra = gas[i] - cost[i]\n",
    "            aggregate[i] = aggregate[i - 1] + extra\n",
    "            if aggregate[i] < tough:\n",
    "                start = i + 1 # skip the toughest part\n",
    "                tough = aggregate[i] # update the toughest part\n",
    "        \n",
    "        return start % n        "
   ]
  },
  {
   "cell_type": "code",
   "execution_count": null,
   "metadata": {
    "collapsed": false
   },
   "outputs": [],
   "source": [
    "s = Solution()\n",
    "gas = [1, 2, 3, 4, 5]\n",
    "cost = [4, 3, 1, 5, 2]\n",
    "s.canCompleteCircuit(gas, cost)"
   ]
  },
  {
   "cell_type": "markdown",
   "metadata": {},
   "source": [
    "# Integer Replacement\n",
    "Given a positive integer n and you can do operations as follow:\n",
    "\n",
    "If n is even, replace n with n/2.\n",
    "\n",
    "If n is odd, you can replace n with either n + 1 or n - 1.\n",
    "\n",
    "What is the minimum number of replacements needed for n to become 1?"
   ]
  },
  {
   "cell_type": "markdown",
   "metadata": {},
   "source": [
    "## Algorithm\n",
    "Rather simple, we have to divide by 2 when the number is even for otherwise it is not optimal. \n",
    "\n",
    "If it is odd, unless the number is 3(tricky corner case), we decide it by mod4."
   ]
  },
  {
   "cell_type": "code",
   "execution_count": null,
   "metadata": {
    "collapsed": true
   },
   "outputs": [],
   "source": [
    "class Solution(object):\n",
    "    def integerReplacement(self, n):\n",
    "        \"\"\"\n",
    "        :type n: int\n",
    "        :rtype: int\n",
    "        \"\"\"\n",
    "        count = 0\n",
    "        while n > 1:\n",
    "            if n == 3:\n",
    "                n = 1\n",
    "                count += 2\n",
    "            elif n % 2 == 0:\n",
    "                n = n / 2\n",
    "                count += 1\n",
    "            elif n % 4 == 1:\n",
    "                n = (n - 1) / 4\n",
    "                count += 3\n",
    "            else:\n",
    "                n = (n + 1) /4\n",
    "                count += 3\n",
    "        return count\n",
    "            \n",
    "        "
   ]
  },
  {
   "cell_type": "markdown",
   "metadata": {},
   "source": [
    "# Jump Game\n",
    "Given an array of non-negative integers, you are initially positioned at the first index of the array.\n",
    "\n",
    "Each element in the array represents your maximum jump length at that position.\n",
    "\n",
    "Determine if you are able to reach the last index.\n",
    "\n",
    "For example:\n",
    "\n",
    "A = [2,3,1,1,4], return true.\n",
    "\n",
    "A = [3,2,1,0,4], return false."
   ]
  },
  {
   "cell_type": "markdown",
   "metadata": {},
   "source": [
    "## algorithm\n",
    "We keep track of the index that can be reached so far.\n",
    "\n",
    "A = [2, 3, 1, 1, 4],\n",
    "\n",
    "i = 0\n",
    "\n",
    "boundary = i + A[i] = 2 < 4 \n",
    "\n",
    "So we can move to place 1 and 2, we increment i by 1 and look at \n",
    "\n",
    "i = 1\n",
    "\n",
    "jump = i + a[i] = 4 == 4, boundary = max(jump, boundary), we update the largest index that can be reached\n",
    "\n",
    "So we can move to 4 already, terminate.\n",
    "\n",
    "In the case of failure, A = [3, 2, 1, 0, 4], when we increment i to i = 3, the boundary is always 3, and we can't continue."
   ]
  },
  {
   "cell_type": "code",
   "execution_count": null,
   "metadata": {
    "collapsed": true
   },
   "outputs": [],
   "source": [
    "class Solution(object):\n",
    "    def canJump(self, nums):\n",
    "        \"\"\"\n",
    "        :type nums: List[int]\n",
    "        :rtype: bool\n",
    "        \"\"\"\n",
    "        n = len(nums)\n",
    "        boundary = 0 # we can at least reach index 0\n",
    "        for i in xrange(n):\n",
    "            \"\"\"\n",
    "            perform the computation\n",
    "            \"\"\"\n",
    "            boundary = max(boundary, nums[i] + i)\n",
    "            if boundary >= n - 1:\n",
    "                return True\n",
    "            elif boundary == i:\n",
    "                return False\n",
    "            else:\n",
    "                continue           "
   ]
  },
  {
   "cell_type": "code",
   "execution_count": null,
   "metadata": {
    "collapsed": false
   },
   "outputs": [],
   "source": [
    "s = Solution()\n",
    "tests = [[3, 2, 1, 0, 4], [2, 3, 1, 1, 4]]\n",
    "for test in tests:\n",
    "    print test, s.canJump(test)"
   ]
  },
  {
   "cell_type": "markdown",
   "metadata": {},
   "source": [
    "# Three Sums\n",
    "Given an array S of n integers, find three integers in S such that the sum is closest to a given number, target. \n",
    "\n",
    "Return the sum of the three integers. \n",
    "\n",
    "You may assume that each input would have exactly one solution.\n",
    "\n",
    "For example, given array S = {-1 2 1 -4}, and target = 1.\n",
    "\n",
    "The sum that is closest to the target is 2. (-1 + 2 + 1 = 2)."
   ]
  },
  {
   "cell_type": "markdown",
   "metadata": {},
   "source": [
    "## Algorithm\n",
    "The solution is a two pointer algorithm which scans the array after it is sorted. Since the time complexity is $\\mathcal{O}(n^2)$, the sorting at the beginning does not increase the asympototic complexity. We can't implement a binary search since we are not guaranteed to have an exact hit but only looking for closet sum."
   ]
  },
  {
   "cell_type": "code",
   "execution_count": null,
   "metadata": {
    "collapsed": true
   },
   "outputs": [],
   "source": [
    "class Solution(object):\n",
    "    def threeSumClosest(self, nums, target):\n",
    "        \"\"\"\n",
    "        :type nums: List[int]\n",
    "        :type target: int\n",
    "        :rtype: int\n",
    "        \"\"\"\n",
    "        nums.sort()\n",
    "        n = len(nums)\n",
    "        if n <= 3:\n",
    "            return sum(nums)\n",
    "        \n",
    "        # compute the margin   \n",
    "        diff = self.diff(nums, 0, 1, 2, target)\n",
    "        margin = abs(diff)\n",
    "        result = target + diff\n",
    "        \n",
    "        for i in xrange(n - 2):\n",
    "            num = nums[i]\n",
    "            j = i + 1 \n",
    "            k = n - 1\n",
    "            while j < k:\n",
    "                diff = self.diff(nums, i, j, k, target)\n",
    "                dist = abs(diff)\n",
    "                if dist < margin:\n",
    "                    margin = dist # update distance\n",
    "                    result = target + diff # update sum\n",
    "                \n",
    "                # update the pointers\n",
    "                if diff < 0:\n",
    "                    j += 1\n",
    "                elif diff == 0:\n",
    "                    return target\n",
    "                else:\n",
    "                    k -= 1\n",
    "        return result\n",
    "    \n",
    "    def diff(self, nums, i, j, k, target):\n",
    "        return nums[i] + nums[j] + nums[k] - target"
   ]
  },
  {
   "cell_type": "markdown",
   "metadata": {},
   "source": [
    "# Next Permutation\n",
    "Implement next permutation, which rearranges numbers into the lexicographically next greater permutation of numbers.\n",
    "\n",
    "If such arrangement is not possible, it must rearrange it as the lowest possible order (ie, sorted in ascending order).\n",
    "\n",
    "The replacement must be in-place, do not allocate extra memory.\n",
    "\n",
    "Here are some examples. Inputs are in the left-hand column and its corresponding outputs are in the right-hand column."
   ]
  },
  {
   "cell_type": "code",
   "execution_count": null,
   "metadata": {
    "collapsed": true
   },
   "outputs": [],
   "source": [
    "class Solution(object):\n",
    "    def nextPermutation(self, nums):\n",
    "        \"\"\"\n",
    "        :type nums: List[int]\n",
    "        :rtype: void Do not return anything, modify nums in-place instead.\n",
    "        \"\"\"\n",
    "        n = len(nums)\n",
    "        \n",
    "        if n < 2:\n",
    "            return\n",
    "        \n",
    "        \"\"\"\n",
    "        In order for a next greater element to exist, the tail of the sequence must have a shape of:\n",
    "        nums[left_end] < nums[left_end + 1] >= .....>= nums[end], otherwise, the nums is largest already and\n",
    "        we skip this step\n",
    "        \"\"\"\n",
    "        left_end = -1\n",
    "        \n",
    "        for i in xrange(n - 1, 0, -1):\n",
    "            if nums[i - 1] < nums[i]:\n",
    "                left_end = i - 1\n",
    "                break\n",
    "        \n",
    "        if left_end != -1: # we find such a left_end\n",
    "            lo = left_end + 1    \n",
    "            hi = n - 1\n",
    "            target = nums[left_end]\n",
    "            \"\"\"\n",
    "            search for the place to insert nums[left_end] in the descending sequence\n",
    "            nums[left_end + 1] >= ....>= nums[n - 1], we use the binary sort\n",
    "            \"\"\"\n",
    "            while lo < hi - 1:\n",
    "                mid = (lo + hi) // 2\n",
    "                if nums[mid] > target:\n",
    "                    lo = mid\n",
    "                else:\n",
    "                    hi = mid\n",
    "            \n",
    "            # do the appropriate swap\n",
    "            if nums[hi] <= target:\n",
    "                nums[lo], nums[left_end] = nums[left_end], nums[lo]\n",
    "            else:\n",
    "                nums[hi], nums[left_end] = nums[left_end], nums[hi]\n",
    "        \n",
    "        \n",
    "        # finally reverse the tail numbers nums[left_end + 1],..., nums[n - 1]\n",
    "        for i in xrange(left_end + 1, (n + left_end + 1) // 2):\n",
    "            nums[i], nums[left_end + n - i] = nums[left_end + n - i], nums[i]\n",
    "        \n",
    "        return"
   ]
  },
  {
   "cell_type": "markdown",
   "metadata": {},
   "source": [
    "# Permutations II\n",
    "Given a collection of numbers that might contain duplicates, return all possible unique permutations.\n",
    "\n",
    "For example,\n",
    "[1,1,2] have the following unique permutations:\n",
    "[\n",
    "  [1,1,2],\n",
    "  [1,2,1],\n",
    "  [2,1,1]\n",
    "]"
   ]
  },
  {
   "cell_type": "code",
   "execution_count": null,
   "metadata": {
    "collapsed": true
   },
   "outputs": [],
   "source": [
    "class Solution(object):\n",
    "    def permuteUnique(self, nums):\n",
    "        \"\"\"\n",
    "        :type nums: List[int]\n",
    "        :rtype: List[List[int]]\n",
    "        \"\"\"\n",
    "        ans = [[]]\n",
    "        for n in nums:\n",
    "            ans = [l[:i] + [n] + l[i:] \n",
    "            for l in ans \n",
    "            for i in xrange((l + [n]).index(n) + 1)]\n",
    "            \n",
    "        return ans"
   ]
  },
  {
   "cell_type": "markdown",
   "metadata": {},
   "source": [
    "# Permutation Sequence\n",
    "The set [1,2,3,…,n] contains a total of n! unique permutations.\n",
    "\n",
    "By listing and labeling all of the permutations in order,\n",
    "\n",
    "We get the following sequence (ie, for n = 3):\n",
    "\n",
    "\"123\"\n",
    "\"132\"\n",
    "\"213\"\n",
    "\"231\"\n",
    "\"312\"\n",
    "\"321\"\n",
    "\n",
    "Given n and k, return the kth permutation sequence."
   ]
  },
  {
   "cell_type": "code",
   "execution_count": null,
   "metadata": {
    "collapsed": true
   },
   "outputs": [],
   "source": [
    "class Solution(object):\n",
    "    def getPermutation(self, n, k):\n",
    "        \"\"\"\n",
    "        :type n: int\n",
    "        :type k: int\n",
    "        :rtype: str\n",
    "        \"\"\"\n",
    "        \n",
    "        from math import factorial as fac \n",
    "        num = [str(x) for x in range(1, n+1)] # initialize a list contains 1 to n\n",
    "        perm = [] # This is the returned value\n",
    "        while n > 0:\n",
    "            d, k = (k - 1) / fac(n-1), k % fac(n-1)\n",
    "            perm.append(num.pop(d)), \n",
    "            n -= 1\n",
    "        return ''.join(perm)"
   ]
  },
  {
   "cell_type": "markdown",
   "metadata": {},
   "source": [
    "# Binary Tree Level Order Traversal II\n",
    "Given a binary tree, return the bottom-up level order traversal of its nodes' values. (ie, from left to right, level by level from leaf to root).\n",
    "\n",
    "For example:\n",
    "    \n",
    "Given binary tree [3,9,20,null,null,15,7],\n",
    "    3\n",
    "   / \\\n",
    "  9  20\n",
    "    /  \\\n",
    "   15   7\n",
    "return its bottom-up level order traversal as:\n",
    "\n",
    "[\n",
    "  [15,7],\n",
    "  [9,20],\n",
    "  [3]\n",
    "]"
   ]
  },
  {
   "cell_type": "code",
   "execution_count": null,
   "metadata": {
    "collapsed": true
   },
   "outputs": [],
   "source": [
    "# Definition for a binary tree node.\n",
    "# class TreeNode(object):\n",
    "#     def __init__(self, x):\n",
    "#         self.val = x\n",
    "#         self.left = None\n",
    "#         self.right = None\n",
    "\n",
    "class Solution(object):\n",
    "    def levelOrderBottom(self, root):\n",
    "        \"\"\"\n",
    "        :type root: TreeNode\n",
    "        :rtype: List[List[int]]\n",
    "        \"\"\"\n",
    "        if not root:\n",
    "            return []\n",
    "        \n",
    "        level = [root]\n",
    "        lst = []\n",
    "        lst.append([root.val])\n",
    "        \n",
    "        \n",
    "        while True:\n",
    "            next_level = []\n",
    "            level_val = []\n",
    "            for node in level:\n",
    "                if node.left:\n",
    "                    next_level.append(node.left)\n",
    "                    level_val.append(node.left.val)\n",
    "                if node.right:\n",
    "                    next_level.append(node.right)\n",
    "                    level_val.append(node.right.val)\n",
    "            if not next_level:\n",
    "                break\n",
    "            level = next_level\n",
    "            lst.append(level_val)\n",
    "        \n",
    "        return lst[::-1]                "
   ]
  },
  {
   "cell_type": "markdown",
   "metadata": {},
   "source": [
    "# Binary Tree Preorder Traversal\n",
    "Given a binary tree, return the preorder traversal of its nodes' values.\n",
    "\n",
    "For example:\n",
    "Given binary tree {1,#,2,3},\n",
    "   1\n",
    "    \\\n",
    "     2\n",
    "    /\n",
    "   3\n",
    "return [1,2,3]."
   ]
  },
  {
   "cell_type": "markdown",
   "metadata": {},
   "source": [
    "## Algorithm\n",
    "Recursive solution with a helper function to save the traversal records in a single list result.\n",
    "\n",
    "The second solution is iterative, with a stack! to store the visits. This is a little tricky, we need to visit in the order:\n",
    "\n",
    "root, left_subtree, right_subtree, this is different from the level-order: root, left_node, right_node, which is not recursive\n",
    "\n",
    "as long as we are working with a recursive call, a Stack structure is needed."
   ]
  },
  {
   "cell_type": "code",
   "execution_count": null,
   "metadata": {
    "collapsed": true
   },
   "outputs": [],
   "source": [
    "# Definition for a binary tree node.\n",
    "# class TreeNode(object):\n",
    "#     def __init__(self, x):\n",
    "#         self.val = x\n",
    "#         self.left = None\n",
    "#         self.right = None\n",
    "\n",
    "class Solution(object):\n",
    "    def preorderTraversal(self, root):\n",
    "        \"\"\"\n",
    "        :type root: TreeNode\n",
    "        :rtype: List[int]\n",
    "        \"\"\"\n",
    "        result = []\n",
    "        self.helper(result, root)\n",
    "        return result\n",
    "        \n",
    "    def helper(self, result, root):\n",
    "        if not root:\n",
    "            return\n",
    "        result.append(root.val)\n",
    "        self.helper(result, root.left)\n",
    "        self.helper(result, root.right)\n",
    "        return "
   ]
  },
  {
   "cell_type": "code",
   "execution_count": null,
   "metadata": {
    "collapsed": true
   },
   "outputs": [],
   "source": [
    "# Definition for a binary tree node.\n",
    "# class TreeNode(object):\n",
    "#     def __init__(self, x):\n",
    "#         self.val = x\n",
    "#         self.left = None\n",
    "#         self.right = None\n",
    "\n",
    "class Solution(object):\n",
    "    def preorderTraversal(self, root):\n",
    "        \"\"\"\n",
    "        :type root: TreeNode\n",
    "        :rtype: List[int]\n",
    "        \"\"\"\n",
    "        if not root:\n",
    "            return []\n",
    "        result = []\n",
    "        to_be_visited = [root]\n",
    "        \n",
    "        while to_be_visited:\n",
    "            node = to_be_visited.pop()\n",
    "            result.append(node.val)\n",
    "            if node.right:\n",
    "                to_be_visited.append(node.right)\n",
    "            if node.left:\n",
    "                to_be_visited.append(node.left)\n",
    "    \n",
    "        return result"
   ]
  },
  {
   "cell_type": "markdown",
   "metadata": {},
   "source": [
    "# Binary Watch\n",
    "A binary watch has 4 LEDs on the top which represent the hours (0-11), and the 6 LEDs on the bottom represent the minutes (0-59).\n",
    "\n",
    "Each LED represents a zero or one, with the least significant bit on the right. \n",
    "\n",
    "For example, the above binary watch reads \"3:25\".\n",
    "\n",
    "Given a non-negative integer n which represents the number of LEDs that are currently on, \n",
    "\n",
    "return all possible times the watch could represent.\n",
    "\n",
    "Input: n = 1\n",
    "\n",
    "Return: [\"1:00\", \"2:00\", \"4:00\", \"8:00\", \"0:01\", \"0:02\", \"0:04\", \"0:08\", \"0:16\", \"0:32\"]"
   ]
  },
  {
   "cell_type": "markdown",
   "metadata": {},
   "source": [
    "## Algorithm\n",
    "My own algorithm builds the dictionary of LED and possible hour/minute it shows. And iteratively try to decompose the num into\n",
    "LEDs. The list comprehension solution is short and elagant, but requieres more computation each time it is called."
   ]
  },
  {
   "cell_type": "code",
   "execution_count": 25,
   "metadata": {
    "collapsed": true
   },
   "outputs": [],
   "source": [
    "class Solution(object):\n",
    "    def readBinaryWatch(self, num):\n",
    "        \"\"\"\n",
    "        :type num: int\n",
    "        :rtype: List[str]\n",
    "        \"\"\"\n",
    "        def count_bits(n):\n",
    "            \"\"\"\n",
    "            a function that count the number of 1's in the \n",
    "            binary representation of n\n",
    "            :type n: int\n",
    "            :rtype: int\n",
    "            \"\"\"\n",
    "            count = 0\n",
    "            while n > 0:\n",
    "                count += n % 2\n",
    "                n >>= 1\n",
    "            return count\n",
    "        \n",
    "        # generate the hours key-value pairs\n",
    "        # number of LED on top : List[str(possible hours)]\n",
    "        hours = {}\n",
    "        for hour in xrange(12):\n",
    "            digit = count_bits(hour)\n",
    "            show = str(hour)\n",
    "            if digit in hours:\n",
    "                hours[digit].append(show)\n",
    "            else:\n",
    "                hours[digit] = [show]\n",
    "        \n",
    "        minutes = {}\n",
    "        for minute in xrange(60):\n",
    "            digit = count_bits(minute)\n",
    "            # change the format of outputs\n",
    "            if minute < 10:\n",
    "                show = '0' + str(minute)\n",
    "            else:\n",
    "                show = str(minute)\n",
    "                \n",
    "            if digit in minutes:\n",
    "                minutes[digit].append(show)\n",
    "            else:\n",
    "                minutes[digit] = [show]\n",
    "        \n",
    "        if num < 0 or num > 10: # invalid number of LED \n",
    "            return []\n",
    "        \n",
    "        result = []\n",
    "        for dh in xrange(min(num + 1, 4)): # number of LED for hour\n",
    "            dm = num - dh \n",
    "            if dm > 5: # invalid number of LED for minute\n",
    "                continue\n",
    "            else:\n",
    "                for hour in hours[dh]:\n",
    "                    for minute in minutes[dm]:\n",
    "                        show = hour + ':' + minute\n",
    "                        result.append(show)\n",
    "        \n",
    "        return result"
   ]
  },
  {
   "cell_type": "code",
   "execution_count": null,
   "metadata": {
    "collapsed": true
   },
   "outputs": [],
   "source": [
    "\"\"\"\n",
    "Alternative simple method, note the use of count and list comprehension\n",
    "\"\"\"\n",
    "def readBinaryWatch(self, num):\n",
    "    return ['%d:%02d' % (h, m)\n",
    "            for h in range(12) for m in range(60)\n",
    "            if (bin(h) + bin(m)).count('1') == num]"
   ]
  },
  {
   "cell_type": "markdown",
   "metadata": {},
   "source": [
    "# Subsets II\n",
    "Given a collection of integers that might contain duplicates, nums, return all possible subsets.\n",
    "\n",
    "Note: The solution set must not contain duplicate subsets.\n",
    "\n",
    "For example, if nums = [1,2,2], a solution is:\n",
    "\n",
    "[\n",
    "  [2],\n",
    "  [1],\n",
    "  [1,2,2],\n",
    "  [2,2],\n",
    "  [1,2],\n",
    "  [],\n",
    "]\n"
   ]
  },
  {
   "cell_type": "markdown",
   "metadata": {},
   "source": [
    "## Algorithm\n",
    "The first solution sorts the numbers first. This allows us to keep track of the subsets from those already constructed that can\n",
    "be inserted with a new number. If the new number has not appeared before, every single subset can be copied and inserted with, \n",
    "otherwise, it coincide with a previous value and only those subsets the previous element modified can be furhter copied and\n",
    "inserted. To see this, we look at the example with nums = [1, 2, 2, 3, 3], \n",
    "\n",
    "The last 1 subsets in current result can be modified\n",
    "The new subsets are [[1]]\n",
    "\n",
    "The last 2 subsets in current result can be modified\n",
    "The new subsets are [[1, 2], [2]]\n",
    "\n",
    "The last 2 subsets in current result can be modified\n",
    "The new subsets are [[2, 2], [1, 2, 2]]\n",
    "\n",
    "The last 6 subsets in current result can be modified\n",
    "The new subsets are [[1, 2, 2, 3], [2, 2, 3], [2, 3], [1, 2, 3], [1, 3], [3]]\n",
    "\n",
    "The last 6 subsets in current result can be modified\n",
    "The new subsets are [[3, 3], [1, 3, 3], [1, 2, 3, 3], [2, 3, 3], [2, 2, 3, 3], [1, 2, 2, 3, 3]]\n",
    "\n",
    "And the final answer is a combination of all of them.\n",
    "[[],\n",
    " [1],\n",
    " [1, 2],\n",
    " [2],\n",
    " [2, 2],\n",
    " [1, 2, 2],\n",
    " [1, 2, 2, 3],\n",
    " [2, 2, 3],\n",
    " [2, 3],\n",
    " [1, 2, 3],\n",
    " [1, 3],\n",
    " [3],\n",
    " [3, 3],\n",
    " [1, 3, 3],\n",
    " [1, 2, 3, 3],\n",
    " [2, 3, 3],\n",
    " [2, 2, 3, 3],\n",
    " [1, 2, 2, 3, 3]]\n"
   ]
  },
  {
   "cell_type": "code",
   "execution_count": 35,
   "metadata": {
    "collapsed": true
   },
   "outputs": [],
   "source": [
    "class Solution(object):\n",
    "    def subsetsWithDup(self, nums):\n",
    "        \"\"\"\n",
    "        :type nums: List[int]\n",
    "        :rtype: List[List[int]]\n",
    "        \"\"\"\n",
    "        n = len(nums)\n",
    "        result = [[]]\n",
    "        if n == 0:\n",
    "            return result\n",
    "        \n",
    "        nums.sort() \n",
    "        for i in xrange(n):\n",
    "            if i == 0 or nums[i-1] != nums[i]:\n",
    "                to_modify = len(result) # update the number of subsets to insert new element\n",
    "            new_subset = [result[-j - 1] + [nums[i]] for j in xrange(to_modify)] # be careful with negative index\n",
    "            print 'The last {:d} subsets in current result can be modified'.format(to_modify)\n",
    "            print 'The new subsets are', new_subset\n",
    "            result.extend(new_subset)\n",
    "        return result\n",
    "    "
   ]
  },
  {
   "cell_type": "markdown",
   "metadata": {},
   "source": [
    "# Count Numbers with Unique Digits\n",
    "Given a non-negative integer n, count all numbers with unique digits, x, where 0 ≤ x < 10n.\n",
    "\n",
    "Example:\n",
    "Given n = 2, return 91. \n",
    "\n",
    "The answer should be the total numbers in the range of 0 ≤ x < 100, excluding [11,22,33,44,55,66,77,88,99])"
   ]
  },
  {
   "cell_type": "code",
   "execution_count": null,
   "metadata": {
    "collapsed": true
   },
   "outputs": [],
   "source": [
    "class Solution(object):\n",
    "    def countNumbersWithUniqueDigits(self, n):\n",
    "        \"\"\"\n",
    "        :type n: int\n",
    "        :rtype: int\n",
    "        \"\"\"\n",
    "        if n == 0:\n",
    "            return 1\n",
    "\n",
    "        counts = [1] * (n + 1) # counts[k] is the number of unique digit numbers of length k + 1 \n",
    "        counts[1] = 9\n",
    "        \n",
    "        for i in xrange(2, n + 1):\n",
    "            counts[i] = counts[i - 1] * (10 - i + 1)\n",
    "        \n",
    "        return sum(counts)"
   ]
  },
  {
   "cell_type": "code",
   "execution_count": 38,
   "metadata": {
    "collapsed": false
   },
   "outputs": [
    {
     "data": {
      "text/plain": [
       "[5, 4, 1]"
      ]
     },
     "execution_count": 38,
     "metadata": {},
     "output_type": "execute_result"
    }
   ],
   "source": [
    "candidates = [1, 5, 4]\n",
    "candidates = sorted(candidates, reverse = True)\n",
    "candidates"
   ]
  },
  {
   "cell_type": "markdown",
   "metadata": {},
   "source": [
    "# Combination Sum\n",
    "Given a set of candidate numbers (C) (without duplicates) and a target number (T), find all unique combinations \n",
    "in C where the candidate numbers sums to T.\n",
    "\n",
    "The same repeated number may be chosen from C unlimited number of times.\n",
    "\n",
    "Note:\n",
    "All numbers (including target) will be positive integers.\n",
    "The solution set must not contain duplicate combinations.\n",
    "For example, given candidate set [2, 3, 6, 7] and target 7, \n",
    "A solution set is: \n",
    "[\n",
    "  [7],\n",
    "  [2, 2, 3]\n",
    "]"
   ]
  },
  {
   "cell_type": "markdown",
   "metadata": {},
   "source": [
    "## Algorithm\n",
    "The solution does a depth-first search. When ever we search, we have the following data:\n",
    "    1. index: the largest index in candidates that we would have in the solution set\n",
    "    2. candidates: the set of possible numbers to use # can be set as global variable\n",
    "    3. solution: the attempt solution so far\n",
    "    4. target: as it states\n",
    "    5. results: all the found results so far # can be set as a global variable\n",
    "Then we check:\n",
    "    1. target = 0, this is the case of success, update results\n",
    "    2. target < 0, we overshoot, backtrack\n",
    "    3. target > 0, keep trying, this is the tricky part, unlike the normal case of a DPS, the next level can be the same index. \n",
    "    The code is simply a loop over all indexes. \n",
    "We reverse sort the candidates and our search stops early. The submission records improves by 30%."
   ]
  },
  {
   "cell_type": "code",
   "execution_count": null,
   "metadata": {
    "collapsed": true
   },
   "outputs": [],
   "source": [
    "class Solution(object):\n",
    "    def combinationSum(self, candidates, target):\n",
    "        \"\"\"\n",
    "        :type candidates: List[int]\n",
    "        :type target: int\n",
    "        :rtype: List[List[int]]\n",
    "        \"\"\"\n",
    "        results = []\n",
    "        if not candidates:\n",
    "            return results\n",
    "        candidates = sorted(candidates, reverse = True) # for early stopping\n",
    "        solution = []\n",
    "        \n",
    "        self.dfs(candidates, target, 0, solution, results)\n",
    "        return results\n",
    "    \n",
    "    def dfs(self, nums, target, index, solution, results):\n",
    "        \"\"\"\n",
    "        with the current solution, current index in candidates, search for the next avaliable solution\n",
    "        the function modifies results, keep appending solutions\n",
    "        \"\"\"\n",
    "        if target < 0:\n",
    "            return  # backtracking\n",
    "        if target == 0:\n",
    "            results.append(solution[::]) # add a copy of solution to our results\n",
    "            return \n",
    "        for i in xrange(index, len(nums)):\n",
    "            solution.append(nums[i])\n",
    "            self.dfs(nums, target-nums[i], i, solution, results)\n",
    "            solution.pop() # clean up\n",
    "            \n",
    "            "
   ]
  },
  {
   "cell_type": "markdown",
   "metadata": {},
   "source": [
    "# Combination Sum III\n",
    "Find all possible combinations of k numbers that add up to a number n, given that only numbers from 1 to 9 can be used and each combination should be a unique set of numbers.\n",
    "\n",
    "\n",
    "Example 1:\n",
    "\n",
    "Input: k = 3, n = 7\n",
    "\n",
    "Output: [[1,2,4]]\n",
    "\n",
    "Example 2:\n",
    "\n",
    "Input: k = 3, n = 9\n",
    "\n",
    "Output: [[1,2,6], [1,3,5], [2,3,4]]"
   ]
  },
  {
   "cell_type": "markdown",
   "metadata": {},
   "source": [
    "## Algorithm\n",
    "A similar idea as before. \n",
    "\n",
    "In a DFS search, we keep adding elements until we have k elements in a stack attemp[].\n",
    "\n",
    "We check if the sum is equal to the target = n, no matter what happened, we backtrack!!!\n"
   ]
  },
  {
   "cell_type": "code",
   "execution_count": null,
   "metadata": {
    "collapsed": true
   },
   "outputs": [],
   "source": [
    "class Solution(object):\n",
    "    def combinationSum3(self, k, n):\n",
    "        \"\"\"\n",
    "        :type k: int\n",
    "        :type n: int\n",
    "        :rtype: List[List[int]]\n",
    "        \"\"\"\n",
    "        if k > 9 or k < 1 or n < sum(range(1, k + 1)) or n > sum(range(9, 9 - k, -1)):\n",
    "            return []\n",
    "        \n",
    "        results = []\n",
    "        attempt = []\n",
    "        curr = 0\n",
    "        \n",
    "        self.dfs(k, n, attempt, curr, results)\n",
    "        return results\n",
    "    \n",
    "    def dfs(self, k, n, attempt, curr, results):\n",
    "        if len(attempt) == k:\n",
    "            if sum(attempt) == n:\n",
    "                results.append(attempt[::])\n",
    "            return\n",
    "        \n",
    "        for num in xrange(curr + 1, 10):\n",
    "            attempt.append(num)\n",
    "            self.dfs(k, n, attempt, num, results)\n",
    "            attempt.pop() # clean up"
   ]
  }
 ],
 "metadata": {
  "anaconda-cloud": {},
  "kernelspec": {
   "display_name": "Python [default]",
   "language": "python",
   "name": "python2"
  },
  "language_info": {
   "codemirror_mode": {
    "name": "ipython",
    "version": 2
   },
   "file_extension": ".py",
   "mimetype": "text/x-python",
   "name": "python",
   "nbconvert_exporter": "python",
   "pygments_lexer": "ipython2",
   "version": "2.7.12"
  }
 },
 "nbformat": 4,
 "nbformat_minor": 1
}
